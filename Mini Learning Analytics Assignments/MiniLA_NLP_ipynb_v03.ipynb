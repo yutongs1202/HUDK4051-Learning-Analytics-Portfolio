{
 "cells": [
  {
   "cell_type": "markdown",
   "id": "2a8c2c06",
   "metadata": {
    "id": "2a8c2c06"
   },
   "source": [
    "**Author**: Yutong Shen"
   ]
  },
  {
   "cell_type": "markdown",
   "id": "ce3efe57",
   "metadata": {
    "id": "ce3efe57"
   },
   "source": [
    "## Assignment Objectives\n",
    "\n",
    "For this assignment, you can use NLP to understand the dataset and the Twitter Conference Backchannel. You will need to create a cohesive narrative about your analysis. Be sure to include the statement of the purpose, the analysis (and replicatable codes), results, and a brief discussion about what you have found.\n",
    "\n",
    "Below are some example analyses you can run:\n",
    "\n",
    "* Sentiment Analysis: A sentiment analysis on tweets to explore the affective states behind the messages.\n",
    "\n",
    "* Topic Modeling: What are they talking about? Is there any emerging topics overall or across different groups?\n",
    "\n",
    "* Predicting Replies: What type of tweet is more likely to attract replies? Is there a “magical word”? Are you able to build a classifier that can predicting the possibility of getting replies with a given tweet?\n",
    "\n",
    "* Classification: And maybe you can step one step further to see if you can classify the activities happening in this Twitter conference backchannel.\n",
    "\n",
    "The purpose is to develop a cohesive narrative about what question your analysis can answer."
   ]
  },
  {
   "cell_type": "code",
   "execution_count": 45,
   "id": "96309f24",
   "metadata": {
    "id": "96309f24"
   },
   "outputs": [],
   "source": [
    "import pandas as pd\n",
    "import numpy as np"
   ]
  },
  {
   "cell_type": "code",
   "execution_count": 46,
   "id": "d1386e93",
   "metadata": {
    "colab": {
     "base_uri": "https://localhost:8080/",
     "height": 424
    },
    "id": "d1386e93",
    "outputId": "5ee5d3ab-49c1-4dcb-af8a-76f8e52a7179"
   },
   "outputs": [
    {
     "data": {
      "text/html": [
       "\n",
       "  <div id=\"df-a9462e3a-c1d1-42f1-8152-db6a2fff8120\">\n",
       "    <div class=\"colab-df-container\">\n",
       "      <div>\n",
       "<style scoped>\n",
       "    .dataframe tbody tr th:only-of-type {\n",
       "        vertical-align: middle;\n",
       "    }\n",
       "\n",
       "    .dataframe tbody tr th {\n",
       "        vertical-align: top;\n",
       "    }\n",
       "\n",
       "    .dataframe thead th {\n",
       "        text-align: right;\n",
       "    }\n",
       "</style>\n",
       "<table border=\"1\" class=\"dataframe\">\n",
       "  <thead>\n",
       "    <tr style=\"text-align: right;\">\n",
       "      <th></th>\n",
       "      <th>document</th>\n",
       "      <th>tweeter</th>\n",
       "      <th>tweetTextOriginal</th>\n",
       "      <th>Followers</th>\n",
       "      <th>Follows</th>\n",
       "      <th>Replies exist? (Y or N)</th>\n",
       "      <th>Activity</th>\n",
       "    </tr>\n",
       "  </thead>\n",
       "  <tbody>\n",
       "    <tr>\n",
       "      <th>0</th>\n",
       "      <td>1</td>\n",
       "      <td>dr_menn</td>\n",
       "      <td>You know you’ve been immersed in @OLCToday’s #...</td>\n",
       "      <td>272.0</td>\n",
       "      <td>497.0</td>\n",
       "      <td>N</td>\n",
       "      <td>PS</td>\n",
       "    </tr>\n",
       "    <tr>\n",
       "      <th>1</th>\n",
       "      <td>2</td>\n",
       "      <td>mhhighered</td>\n",
       "      <td>?? ?? #ICYMI: @ASU &amp; @UCF were awarded the Dig...</td>\n",
       "      <td>17432.0</td>\n",
       "      <td>5749.0</td>\n",
       "      <td>N</td>\n",
       "      <td>CI</td>\n",
       "    </tr>\n",
       "    <tr>\n",
       "      <th>2</th>\n",
       "      <td>3</td>\n",
       "      <td>edtechdev</td>\n",
       "      <td>Added the Peralta Equity Rubric  to this list ...</td>\n",
       "      <td>3779.0</td>\n",
       "      <td>3716.0</td>\n",
       "      <td>N</td>\n",
       "      <td>NKA</td>\n",
       "    </tr>\n",
       "    <tr>\n",
       "      <th>3</th>\n",
       "      <td>4</td>\n",
       "      <td>kthompso</td>\n",
       "      <td>i appreciate the reflective gratitude and the ...</td>\n",
       "      <td>2440.0</td>\n",
       "      <td>1232.0</td>\n",
       "      <td>N</td>\n",
       "      <td>PN</td>\n",
       "    </tr>\n",
       "    <tr>\n",
       "      <th>4</th>\n",
       "      <td>5</td>\n",
       "      <td>angelagunder</td>\n",
       "      <td>Hey #OLCAccelerate #FOMOfest - I was so busy t...</td>\n",
       "      <td>684.0</td>\n",
       "      <td>698.0</td>\n",
       "      <td>Y</td>\n",
       "      <td>PS</td>\n",
       "    </tr>\n",
       "    <tr>\n",
       "      <th>...</th>\n",
       "      <td>...</td>\n",
       "      <td>...</td>\n",
       "      <td>...</td>\n",
       "      <td>...</td>\n",
       "      <td>...</td>\n",
       "      <td>...</td>\n",
       "      <td>...</td>\n",
       "    </tr>\n",
       "    <tr>\n",
       "      <th>1756</th>\n",
       "      <td>1523</td>\n",
       "      <td>Angela Gibson</td>\n",
       "      <td>Thank you @OLCToday #OLCAccelerate!</td>\n",
       "      <td>NaN</td>\n",
       "      <td>NaN</td>\n",
       "      <td>Y</td>\n",
       "      <td>PS</td>\n",
       "    </tr>\n",
       "    <tr>\n",
       "      <th>1757</th>\n",
       "      <td>1525</td>\n",
       "      <td>Angela Gibson</td>\n",
       "      <td>#BestInTrack thanks @OLCToday #OLCAccelerate !!!!</td>\n",
       "      <td>NaN</td>\n",
       "      <td>NaN</td>\n",
       "      <td>Y</td>\n",
       "      <td>PS</td>\n",
       "    </tr>\n",
       "    <tr>\n",
       "      <th>1758</th>\n",
       "      <td>1630</td>\n",
       "      <td>Holly Owens</td>\n",
       "      <td>We’re here! #OLCAccelerate @jlabeatnik</td>\n",
       "      <td>NaN</td>\n",
       "      <td>NaN</td>\n",
       "      <td>N</td>\n",
       "      <td>PS</td>\n",
       "    </tr>\n",
       "    <tr>\n",
       "      <th>1759</th>\n",
       "      <td>1671</td>\n",
       "      <td>Angela Gibson</td>\n",
       "      <td>Hello @OLCToday!!!! #OLCAccelerate</td>\n",
       "      <td>NaN</td>\n",
       "      <td>NaN</td>\n",
       "      <td>Y</td>\n",
       "      <td>PS</td>\n",
       "    </tr>\n",
       "    <tr>\n",
       "      <th>1760</th>\n",
       "      <td>1719</td>\n",
       "      <td>David Proudfoot, Ed.D.</td>\n",
       "      <td>First ones here. First ones here. @OLCToday #O...</td>\n",
       "      <td>NaN</td>\n",
       "      <td>NaN</td>\n",
       "      <td>N</td>\n",
       "      <td>PS</td>\n",
       "    </tr>\n",
       "  </tbody>\n",
       "</table>\n",
       "<p>1761 rows × 7 columns</p>\n",
       "</div>\n",
       "      <button class=\"colab-df-convert\" onclick=\"convertToInteractive('df-a9462e3a-c1d1-42f1-8152-db6a2fff8120')\"\n",
       "              title=\"Convert this dataframe to an interactive table.\"\n",
       "              style=\"display:none;\">\n",
       "        \n",
       "  <svg xmlns=\"http://www.w3.org/2000/svg\" height=\"24px\"viewBox=\"0 0 24 24\"\n",
       "       width=\"24px\">\n",
       "    <path d=\"M0 0h24v24H0V0z\" fill=\"none\"/>\n",
       "    <path d=\"M18.56 5.44l.94 2.06.94-2.06 2.06-.94-2.06-.94-.94-2.06-.94 2.06-2.06.94zm-11 1L8.5 8.5l.94-2.06 2.06-.94-2.06-.94L8.5 2.5l-.94 2.06-2.06.94zm10 10l.94 2.06.94-2.06 2.06-.94-2.06-.94-.94-2.06-.94 2.06-2.06.94z\"/><path d=\"M17.41 7.96l-1.37-1.37c-.4-.4-.92-.59-1.43-.59-.52 0-1.04.2-1.43.59L10.3 9.45l-7.72 7.72c-.78.78-.78 2.05 0 2.83L4 21.41c.39.39.9.59 1.41.59.51 0 1.02-.2 1.41-.59l7.78-7.78 2.81-2.81c.8-.78.8-2.07 0-2.86zM5.41 20L4 18.59l7.72-7.72 1.47 1.35L5.41 20z\"/>\n",
       "  </svg>\n",
       "      </button>\n",
       "      \n",
       "  <style>\n",
       "    .colab-df-container {\n",
       "      display:flex;\n",
       "      flex-wrap:wrap;\n",
       "      gap: 12px;\n",
       "    }\n",
       "\n",
       "    .colab-df-convert {\n",
       "      background-color: #E8F0FE;\n",
       "      border: none;\n",
       "      border-radius: 50%;\n",
       "      cursor: pointer;\n",
       "      display: none;\n",
       "      fill: #1967D2;\n",
       "      height: 32px;\n",
       "      padding: 0 0 0 0;\n",
       "      width: 32px;\n",
       "    }\n",
       "\n",
       "    .colab-df-convert:hover {\n",
       "      background-color: #E2EBFA;\n",
       "      box-shadow: 0px 1px 2px rgba(60, 64, 67, 0.3), 0px 1px 3px 1px rgba(60, 64, 67, 0.15);\n",
       "      fill: #174EA6;\n",
       "    }\n",
       "\n",
       "    [theme=dark] .colab-df-convert {\n",
       "      background-color: #3B4455;\n",
       "      fill: #D2E3FC;\n",
       "    }\n",
       "\n",
       "    [theme=dark] .colab-df-convert:hover {\n",
       "      background-color: #434B5C;\n",
       "      box-shadow: 0px 1px 3px 1px rgba(0, 0, 0, 0.15);\n",
       "      filter: drop-shadow(0px 1px 2px rgba(0, 0, 0, 0.3));\n",
       "      fill: #FFFFFF;\n",
       "    }\n",
       "  </style>\n",
       "\n",
       "      <script>\n",
       "        const buttonEl =\n",
       "          document.querySelector('#df-a9462e3a-c1d1-42f1-8152-db6a2fff8120 button.colab-df-convert');\n",
       "        buttonEl.style.display =\n",
       "          google.colab.kernel.accessAllowed ? 'block' : 'none';\n",
       "\n",
       "        async function convertToInteractive(key) {\n",
       "          const element = document.querySelector('#df-a9462e3a-c1d1-42f1-8152-db6a2fff8120');\n",
       "          const dataTable =\n",
       "            await google.colab.kernel.invokeFunction('convertToInteractive',\n",
       "                                                     [key], {});\n",
       "          if (!dataTable) return;\n",
       "\n",
       "          const docLinkHtml = 'Like what you see? Visit the ' +\n",
       "            '<a target=\"_blank\" href=https://colab.research.google.com/notebooks/data_table.ipynb>data table notebook</a>'\n",
       "            + ' to learn more about interactive tables.';\n",
       "          element.innerHTML = '';\n",
       "          dataTable['output_type'] = 'display_data';\n",
       "          await google.colab.output.renderOutput(dataTable, element);\n",
       "          const docLink = document.createElement('div');\n",
       "          docLink.innerHTML = docLinkHtml;\n",
       "          element.appendChild(docLink);\n",
       "        }\n",
       "      </script>\n",
       "    </div>\n",
       "  </div>\n",
       "  "
      ],
      "text/plain": [
       "      document                 tweeter  \\\n",
       "0            1                 dr_menn   \n",
       "1            2              mhhighered   \n",
       "2            3               edtechdev   \n",
       "3            4                kthompso   \n",
       "4            5            angelagunder   \n",
       "...        ...                     ...   \n",
       "1756      1523           Angela Gibson   \n",
       "1757      1525           Angela Gibson   \n",
       "1758      1630             Holly Owens   \n",
       "1759      1671           Angela Gibson   \n",
       "1760      1719  David Proudfoot, Ed.D.   \n",
       "\n",
       "                                      tweetTextOriginal  Followers  Follows  \\\n",
       "0     You know you’ve been immersed in @OLCToday’s #...      272.0    497.0   \n",
       "1     ?? ?? #ICYMI: @ASU & @UCF were awarded the Dig...    17432.0   5749.0   \n",
       "2     Added the Peralta Equity Rubric  to this list ...     3779.0   3716.0   \n",
       "3     i appreciate the reflective gratitude and the ...     2440.0   1232.0   \n",
       "4     Hey #OLCAccelerate #FOMOfest - I was so busy t...      684.0    698.0   \n",
       "...                                                 ...        ...      ...   \n",
       "1756                Thank you @OLCToday #OLCAccelerate!        NaN      NaN   \n",
       "1757  #BestInTrack thanks @OLCToday #OLCAccelerate !!!!        NaN      NaN   \n",
       "1758             We’re here! #OLCAccelerate @jlabeatnik        NaN      NaN   \n",
       "1759                 Hello @OLCToday!!!! #OLCAccelerate        NaN      NaN   \n",
       "1760  First ones here. First ones here. @OLCToday #O...        NaN      NaN   \n",
       "\n",
       "     Replies exist? (Y or N) Activity  \n",
       "0                          N       PS  \n",
       "1                          N       CI  \n",
       "2                          N      NKA  \n",
       "3                          N       PN  \n",
       "4                          Y       PS  \n",
       "...                      ...      ...  \n",
       "1756                       Y       PS  \n",
       "1757                       Y       PS  \n",
       "1758                       N       PS  \n",
       "1759                       Y       PS  \n",
       "1760                       N       PS  \n",
       "\n",
       "[1761 rows x 7 columns]"
      ]
     },
     "execution_count": 46,
     "metadata": {},
     "output_type": "execute_result"
    }
   ],
   "source": [
    "data = pd.read_excel(\"Twitter_Conference_Backchannel.xlsx\")\n",
    "data"
   ]
  },
  {
   "cell_type": "markdown",
   "id": "f9b8f9b7",
   "metadata": {
    "id": "f9b8f9b7"
   },
   "source": [
    "## Data Cleaning and Wrangling"
   ]
  },
  {
   "cell_type": "code",
   "execution_count": 47,
   "id": "6a15ebb9",
   "metadata": {
    "id": "6a15ebb9"
   },
   "outputs": [],
   "source": [
    "# import the regex library\n",
    "import re"
   ]
  },
  {
   "cell_type": "code",
   "execution_count": 48,
   "id": "eaee10a0",
   "metadata": {
    "id": "eaee10a0"
   },
   "outputs": [],
   "source": [
    "import string\n",
    "def clean_text(text):\n",
    "    # Make text lowercase, remove punctuations, and remove numbers\n",
    "    text = text.lower()\n",
    "    text = re.sub('[%s]' % re.escape(string.punctuation), '', text)\n",
    "    text = re.sub('[0-9]+','', text)\n",
    "    return text"
   ]
  },
  {
   "cell_type": "code",
   "execution_count": 49,
   "id": "a0ce4ca9",
   "metadata": {
    "colab": {
     "base_uri": "https://localhost:8080/",
     "height": 424
    },
    "id": "a0ce4ca9",
    "outputId": "5b774d75-a192-4b9b-c165-a10219f125cc"
   },
   "outputs": [
    {
     "data": {
      "text/html": [
       "\n",
       "  <div id=\"df-4fad186a-24c5-49b0-b79c-a8104aed405d\">\n",
       "    <div class=\"colab-df-container\">\n",
       "      <div>\n",
       "<style scoped>\n",
       "    .dataframe tbody tr th:only-of-type {\n",
       "        vertical-align: middle;\n",
       "    }\n",
       "\n",
       "    .dataframe tbody tr th {\n",
       "        vertical-align: top;\n",
       "    }\n",
       "\n",
       "    .dataframe thead th {\n",
       "        text-align: right;\n",
       "    }\n",
       "</style>\n",
       "<table border=\"1\" class=\"dataframe\">\n",
       "  <thead>\n",
       "    <tr style=\"text-align: right;\">\n",
       "      <th></th>\n",
       "      <th>document</th>\n",
       "      <th>tweeter</th>\n",
       "      <th>tweetTextOriginal</th>\n",
       "      <th>Followers</th>\n",
       "      <th>Follows</th>\n",
       "      <th>Replies exist? (Y or N)</th>\n",
       "      <th>Activity</th>\n",
       "    </tr>\n",
       "  </thead>\n",
       "  <tbody>\n",
       "    <tr>\n",
       "      <th>0</th>\n",
       "      <td>1</td>\n",
       "      <td>dr_menn</td>\n",
       "      <td>you know you’ve been immersed in olctoday’s ol...</td>\n",
       "      <td>272.0</td>\n",
       "      <td>497.0</td>\n",
       "      <td>N</td>\n",
       "      <td>PS</td>\n",
       "    </tr>\n",
       "    <tr>\n",
       "      <th>1</th>\n",
       "      <td>2</td>\n",
       "      <td>mhhighered</td>\n",
       "      <td>icymi asu  ucf were awarded the digital inno...</td>\n",
       "      <td>17432.0</td>\n",
       "      <td>5749.0</td>\n",
       "      <td>N</td>\n",
       "      <td>CI</td>\n",
       "    </tr>\n",
       "    <tr>\n",
       "      <th>2</th>\n",
       "      <td>3</td>\n",
       "      <td>edtechdev</td>\n",
       "      <td>added the peralta equity rubric  to this list ...</td>\n",
       "      <td>3779.0</td>\n",
       "      <td>3716.0</td>\n",
       "      <td>N</td>\n",
       "      <td>NKA</td>\n",
       "    </tr>\n",
       "    <tr>\n",
       "      <th>3</th>\n",
       "      <td>4</td>\n",
       "      <td>kthompso</td>\n",
       "      <td>i appreciate the reflective gratitude and the ...</td>\n",
       "      <td>2440.0</td>\n",
       "      <td>1232.0</td>\n",
       "      <td>N</td>\n",
       "      <td>PN</td>\n",
       "    </tr>\n",
       "    <tr>\n",
       "      <th>4</th>\n",
       "      <td>5</td>\n",
       "      <td>angelagunder</td>\n",
       "      <td>hey olcaccelerate fomofest  i was so busy this...</td>\n",
       "      <td>684.0</td>\n",
       "      <td>698.0</td>\n",
       "      <td>Y</td>\n",
       "      <td>PS</td>\n",
       "    </tr>\n",
       "    <tr>\n",
       "      <th>...</th>\n",
       "      <td>...</td>\n",
       "      <td>...</td>\n",
       "      <td>...</td>\n",
       "      <td>...</td>\n",
       "      <td>...</td>\n",
       "      <td>...</td>\n",
       "      <td>...</td>\n",
       "    </tr>\n",
       "    <tr>\n",
       "      <th>1756</th>\n",
       "      <td>1523</td>\n",
       "      <td>Angela Gibson</td>\n",
       "      <td>thank you olctoday olcaccelerate</td>\n",
       "      <td>NaN</td>\n",
       "      <td>NaN</td>\n",
       "      <td>Y</td>\n",
       "      <td>PS</td>\n",
       "    </tr>\n",
       "    <tr>\n",
       "      <th>1757</th>\n",
       "      <td>1525</td>\n",
       "      <td>Angela Gibson</td>\n",
       "      <td>bestintrack thanks olctoday olcaccelerate</td>\n",
       "      <td>NaN</td>\n",
       "      <td>NaN</td>\n",
       "      <td>Y</td>\n",
       "      <td>PS</td>\n",
       "    </tr>\n",
       "    <tr>\n",
       "      <th>1758</th>\n",
       "      <td>1630</td>\n",
       "      <td>Holly Owens</td>\n",
       "      <td>we’re here olcaccelerate jlabeatnik</td>\n",
       "      <td>NaN</td>\n",
       "      <td>NaN</td>\n",
       "      <td>N</td>\n",
       "      <td>PS</td>\n",
       "    </tr>\n",
       "    <tr>\n",
       "      <th>1759</th>\n",
       "      <td>1671</td>\n",
       "      <td>Angela Gibson</td>\n",
       "      <td>hello olctoday olcaccelerate</td>\n",
       "      <td>NaN</td>\n",
       "      <td>NaN</td>\n",
       "      <td>Y</td>\n",
       "      <td>PS</td>\n",
       "    </tr>\n",
       "    <tr>\n",
       "      <th>1760</th>\n",
       "      <td>1719</td>\n",
       "      <td>David Proudfoot, Ed.D.</td>\n",
       "      <td>first ones here first ones here olctoday olcac...</td>\n",
       "      <td>NaN</td>\n",
       "      <td>NaN</td>\n",
       "      <td>N</td>\n",
       "      <td>PS</td>\n",
       "    </tr>\n",
       "  </tbody>\n",
       "</table>\n",
       "<p>1761 rows × 7 columns</p>\n",
       "</div>\n",
       "      <button class=\"colab-df-convert\" onclick=\"convertToInteractive('df-4fad186a-24c5-49b0-b79c-a8104aed405d')\"\n",
       "              title=\"Convert this dataframe to an interactive table.\"\n",
       "              style=\"display:none;\">\n",
       "        \n",
       "  <svg xmlns=\"http://www.w3.org/2000/svg\" height=\"24px\"viewBox=\"0 0 24 24\"\n",
       "       width=\"24px\">\n",
       "    <path d=\"M0 0h24v24H0V0z\" fill=\"none\"/>\n",
       "    <path d=\"M18.56 5.44l.94 2.06.94-2.06 2.06-.94-2.06-.94-.94-2.06-.94 2.06-2.06.94zm-11 1L8.5 8.5l.94-2.06 2.06-.94-2.06-.94L8.5 2.5l-.94 2.06-2.06.94zm10 10l.94 2.06.94-2.06 2.06-.94-2.06-.94-.94-2.06-.94 2.06-2.06.94z\"/><path d=\"M17.41 7.96l-1.37-1.37c-.4-.4-.92-.59-1.43-.59-.52 0-1.04.2-1.43.59L10.3 9.45l-7.72 7.72c-.78.78-.78 2.05 0 2.83L4 21.41c.39.39.9.59 1.41.59.51 0 1.02-.2 1.41-.59l7.78-7.78 2.81-2.81c.8-.78.8-2.07 0-2.86zM5.41 20L4 18.59l7.72-7.72 1.47 1.35L5.41 20z\"/>\n",
       "  </svg>\n",
       "      </button>\n",
       "      \n",
       "  <style>\n",
       "    .colab-df-container {\n",
       "      display:flex;\n",
       "      flex-wrap:wrap;\n",
       "      gap: 12px;\n",
       "    }\n",
       "\n",
       "    .colab-df-convert {\n",
       "      background-color: #E8F0FE;\n",
       "      border: none;\n",
       "      border-radius: 50%;\n",
       "      cursor: pointer;\n",
       "      display: none;\n",
       "      fill: #1967D2;\n",
       "      height: 32px;\n",
       "      padding: 0 0 0 0;\n",
       "      width: 32px;\n",
       "    }\n",
       "\n",
       "    .colab-df-convert:hover {\n",
       "      background-color: #E2EBFA;\n",
       "      box-shadow: 0px 1px 2px rgba(60, 64, 67, 0.3), 0px 1px 3px 1px rgba(60, 64, 67, 0.15);\n",
       "      fill: #174EA6;\n",
       "    }\n",
       "\n",
       "    [theme=dark] .colab-df-convert {\n",
       "      background-color: #3B4455;\n",
       "      fill: #D2E3FC;\n",
       "    }\n",
       "\n",
       "    [theme=dark] .colab-df-convert:hover {\n",
       "      background-color: #434B5C;\n",
       "      box-shadow: 0px 1px 3px 1px rgba(0, 0, 0, 0.15);\n",
       "      filter: drop-shadow(0px 1px 2px rgba(0, 0, 0, 0.3));\n",
       "      fill: #FFFFFF;\n",
       "    }\n",
       "  </style>\n",
       "\n",
       "      <script>\n",
       "        const buttonEl =\n",
       "          document.querySelector('#df-4fad186a-24c5-49b0-b79c-a8104aed405d button.colab-df-convert');\n",
       "        buttonEl.style.display =\n",
       "          google.colab.kernel.accessAllowed ? 'block' : 'none';\n",
       "\n",
       "        async function convertToInteractive(key) {\n",
       "          const element = document.querySelector('#df-4fad186a-24c5-49b0-b79c-a8104aed405d');\n",
       "          const dataTable =\n",
       "            await google.colab.kernel.invokeFunction('convertToInteractive',\n",
       "                                                     [key], {});\n",
       "          if (!dataTable) return;\n",
       "\n",
       "          const docLinkHtml = 'Like what you see? Visit the ' +\n",
       "            '<a target=\"_blank\" href=https://colab.research.google.com/notebooks/data_table.ipynb>data table notebook</a>'\n",
       "            + ' to learn more about interactive tables.';\n",
       "          element.innerHTML = '';\n",
       "          dataTable['output_type'] = 'display_data';\n",
       "          await google.colab.output.renderOutput(dataTable, element);\n",
       "          const docLink = document.createElement('div');\n",
       "          docLink.innerHTML = docLinkHtml;\n",
       "          element.appendChild(docLink);\n",
       "        }\n",
       "      </script>\n",
       "    </div>\n",
       "  </div>\n",
       "  "
      ],
      "text/plain": [
       "      document                 tweeter  \\\n",
       "0            1                 dr_menn   \n",
       "1            2              mhhighered   \n",
       "2            3               edtechdev   \n",
       "3            4                kthompso   \n",
       "4            5            angelagunder   \n",
       "...        ...                     ...   \n",
       "1756      1523           Angela Gibson   \n",
       "1757      1525           Angela Gibson   \n",
       "1758      1630             Holly Owens   \n",
       "1759      1671           Angela Gibson   \n",
       "1760      1719  David Proudfoot, Ed.D.   \n",
       "\n",
       "                                      tweetTextOriginal  Followers  Follows  \\\n",
       "0     you know you’ve been immersed in olctoday’s ol...      272.0    497.0   \n",
       "1       icymi asu  ucf were awarded the digital inno...    17432.0   5749.0   \n",
       "2     added the peralta equity rubric  to this list ...     3779.0   3716.0   \n",
       "3     i appreciate the reflective gratitude and the ...     2440.0   1232.0   \n",
       "4     hey olcaccelerate fomofest  i was so busy this...      684.0    698.0   \n",
       "...                                                 ...        ...      ...   \n",
       "1756                   thank you olctoday olcaccelerate        NaN      NaN   \n",
       "1757         bestintrack thanks olctoday olcaccelerate         NaN      NaN   \n",
       "1758                we’re here olcaccelerate jlabeatnik        NaN      NaN   \n",
       "1759                       hello olctoday olcaccelerate        NaN      NaN   \n",
       "1760  first ones here first ones here olctoday olcac...        NaN      NaN   \n",
       "\n",
       "     Replies exist? (Y or N) Activity  \n",
       "0                          N       PS  \n",
       "1                          N       CI  \n",
       "2                          N      NKA  \n",
       "3                          N       PN  \n",
       "4                          Y       PS  \n",
       "...                      ...      ...  \n",
       "1756                       Y       PS  \n",
       "1757                       Y       PS  \n",
       "1758                       N       PS  \n",
       "1759                       Y       PS  \n",
       "1760                       N       PS  \n",
       "\n",
       "[1761 rows x 7 columns]"
      ]
     },
     "execution_count": 49,
     "metadata": {},
     "output_type": "execute_result"
    }
   ],
   "source": [
    "dataClean = data\n",
    "dataClean['tweetTextOriginal'] = data['tweetTextOriginal'].map(clean_text)\n",
    "dataClean"
   ]
  },
  {
   "cell_type": "code",
   "execution_count": 50,
   "id": "66291b4c",
   "metadata": {
    "colab": {
     "base_uri": "https://localhost:8080/"
    },
    "id": "66291b4c",
    "outputId": "9cfd40db-9f4b-45e8-c778-3977bf3d3016"
   },
   "outputs": [
    {
     "data": {
      "text/plain": [
       "array(['PS', 'CI', 'NKA', 'PN', 'NKA ', 'PN '], dtype=object)"
      ]
     },
     "execution_count": 50,
     "metadata": {},
     "output_type": "execute_result"
    }
   ],
   "source": [
    "data['Activity'].unique()"
   ]
  },
  {
   "cell_type": "code",
   "execution_count": 51,
   "id": "d7ce61f9",
   "metadata": {
    "colab": {
     "base_uri": "https://localhost:8080/",
     "height": 424
    },
    "id": "d7ce61f9",
    "outputId": "014a3aca-9ffe-44dc-89af-5d3997927625"
   },
   "outputs": [
    {
     "data": {
      "text/html": [
       "\n",
       "  <div id=\"df-b6bde7ec-f1fa-4d95-8519-1cc9b0f72d11\">\n",
       "    <div class=\"colab-df-container\">\n",
       "      <div>\n",
       "<style scoped>\n",
       "    .dataframe tbody tr th:only-of-type {\n",
       "        vertical-align: middle;\n",
       "    }\n",
       "\n",
       "    .dataframe tbody tr th {\n",
       "        vertical-align: top;\n",
       "    }\n",
       "\n",
       "    .dataframe thead th {\n",
       "        text-align: right;\n",
       "    }\n",
       "</style>\n",
       "<table border=\"1\" class=\"dataframe\">\n",
       "  <thead>\n",
       "    <tr style=\"text-align: right;\">\n",
       "      <th></th>\n",
       "      <th>document</th>\n",
       "      <th>tweeter</th>\n",
       "      <th>tweetTextOriginal</th>\n",
       "      <th>Followers</th>\n",
       "      <th>Follows</th>\n",
       "      <th>Replies exist? (Y or N)</th>\n",
       "      <th>Activity</th>\n",
       "    </tr>\n",
       "  </thead>\n",
       "  <tbody>\n",
       "    <tr>\n",
       "      <th>0</th>\n",
       "      <td>1</td>\n",
       "      <td>dr_menn</td>\n",
       "      <td>you know you’ve been immersed in olctoday’s ol...</td>\n",
       "      <td>272.0</td>\n",
       "      <td>497.0</td>\n",
       "      <td>N</td>\n",
       "      <td>PS</td>\n",
       "    </tr>\n",
       "    <tr>\n",
       "      <th>1</th>\n",
       "      <td>2</td>\n",
       "      <td>mhhighered</td>\n",
       "      <td>icymi asu  ucf were awarded the digital inno...</td>\n",
       "      <td>17432.0</td>\n",
       "      <td>5749.0</td>\n",
       "      <td>N</td>\n",
       "      <td>CI</td>\n",
       "    </tr>\n",
       "    <tr>\n",
       "      <th>2</th>\n",
       "      <td>3</td>\n",
       "      <td>edtechdev</td>\n",
       "      <td>added the peralta equity rubric  to this list ...</td>\n",
       "      <td>3779.0</td>\n",
       "      <td>3716.0</td>\n",
       "      <td>N</td>\n",
       "      <td>NKA</td>\n",
       "    </tr>\n",
       "    <tr>\n",
       "      <th>3</th>\n",
       "      <td>4</td>\n",
       "      <td>kthompso</td>\n",
       "      <td>i appreciate the reflective gratitude and the ...</td>\n",
       "      <td>2440.0</td>\n",
       "      <td>1232.0</td>\n",
       "      <td>N</td>\n",
       "      <td>PN</td>\n",
       "    </tr>\n",
       "    <tr>\n",
       "      <th>4</th>\n",
       "      <td>5</td>\n",
       "      <td>angelagunder</td>\n",
       "      <td>hey olcaccelerate fomofest  i was so busy this...</td>\n",
       "      <td>684.0</td>\n",
       "      <td>698.0</td>\n",
       "      <td>Y</td>\n",
       "      <td>PS</td>\n",
       "    </tr>\n",
       "    <tr>\n",
       "      <th>...</th>\n",
       "      <td>...</td>\n",
       "      <td>...</td>\n",
       "      <td>...</td>\n",
       "      <td>...</td>\n",
       "      <td>...</td>\n",
       "      <td>...</td>\n",
       "      <td>...</td>\n",
       "    </tr>\n",
       "    <tr>\n",
       "      <th>1756</th>\n",
       "      <td>1523</td>\n",
       "      <td>Angela Gibson</td>\n",
       "      <td>thank you olctoday olcaccelerate</td>\n",
       "      <td>NaN</td>\n",
       "      <td>NaN</td>\n",
       "      <td>Y</td>\n",
       "      <td>PS</td>\n",
       "    </tr>\n",
       "    <tr>\n",
       "      <th>1757</th>\n",
       "      <td>1525</td>\n",
       "      <td>Angela Gibson</td>\n",
       "      <td>bestintrack thanks olctoday olcaccelerate</td>\n",
       "      <td>NaN</td>\n",
       "      <td>NaN</td>\n",
       "      <td>Y</td>\n",
       "      <td>PS</td>\n",
       "    </tr>\n",
       "    <tr>\n",
       "      <th>1758</th>\n",
       "      <td>1630</td>\n",
       "      <td>Holly Owens</td>\n",
       "      <td>we’re here olcaccelerate jlabeatnik</td>\n",
       "      <td>NaN</td>\n",
       "      <td>NaN</td>\n",
       "      <td>N</td>\n",
       "      <td>PS</td>\n",
       "    </tr>\n",
       "    <tr>\n",
       "      <th>1759</th>\n",
       "      <td>1671</td>\n",
       "      <td>Angela Gibson</td>\n",
       "      <td>hello olctoday olcaccelerate</td>\n",
       "      <td>NaN</td>\n",
       "      <td>NaN</td>\n",
       "      <td>Y</td>\n",
       "      <td>PS</td>\n",
       "    </tr>\n",
       "    <tr>\n",
       "      <th>1760</th>\n",
       "      <td>1719</td>\n",
       "      <td>David Proudfoot, Ed.D.</td>\n",
       "      <td>first ones here first ones here olctoday olcac...</td>\n",
       "      <td>NaN</td>\n",
       "      <td>NaN</td>\n",
       "      <td>N</td>\n",
       "      <td>PS</td>\n",
       "    </tr>\n",
       "  </tbody>\n",
       "</table>\n",
       "<p>1761 rows × 7 columns</p>\n",
       "</div>\n",
       "      <button class=\"colab-df-convert\" onclick=\"convertToInteractive('df-b6bde7ec-f1fa-4d95-8519-1cc9b0f72d11')\"\n",
       "              title=\"Convert this dataframe to an interactive table.\"\n",
       "              style=\"display:none;\">\n",
       "        \n",
       "  <svg xmlns=\"http://www.w3.org/2000/svg\" height=\"24px\"viewBox=\"0 0 24 24\"\n",
       "       width=\"24px\">\n",
       "    <path d=\"M0 0h24v24H0V0z\" fill=\"none\"/>\n",
       "    <path d=\"M18.56 5.44l.94 2.06.94-2.06 2.06-.94-2.06-.94-.94-2.06-.94 2.06-2.06.94zm-11 1L8.5 8.5l.94-2.06 2.06-.94-2.06-.94L8.5 2.5l-.94 2.06-2.06.94zm10 10l.94 2.06.94-2.06 2.06-.94-2.06-.94-.94-2.06-.94 2.06-2.06.94z\"/><path d=\"M17.41 7.96l-1.37-1.37c-.4-.4-.92-.59-1.43-.59-.52 0-1.04.2-1.43.59L10.3 9.45l-7.72 7.72c-.78.78-.78 2.05 0 2.83L4 21.41c.39.39.9.59 1.41.59.51 0 1.02-.2 1.41-.59l7.78-7.78 2.81-2.81c.8-.78.8-2.07 0-2.86zM5.41 20L4 18.59l7.72-7.72 1.47 1.35L5.41 20z\"/>\n",
       "  </svg>\n",
       "      </button>\n",
       "      \n",
       "  <style>\n",
       "    .colab-df-container {\n",
       "      display:flex;\n",
       "      flex-wrap:wrap;\n",
       "      gap: 12px;\n",
       "    }\n",
       "\n",
       "    .colab-df-convert {\n",
       "      background-color: #E8F0FE;\n",
       "      border: none;\n",
       "      border-radius: 50%;\n",
       "      cursor: pointer;\n",
       "      display: none;\n",
       "      fill: #1967D2;\n",
       "      height: 32px;\n",
       "      padding: 0 0 0 0;\n",
       "      width: 32px;\n",
       "    }\n",
       "\n",
       "    .colab-df-convert:hover {\n",
       "      background-color: #E2EBFA;\n",
       "      box-shadow: 0px 1px 2px rgba(60, 64, 67, 0.3), 0px 1px 3px 1px rgba(60, 64, 67, 0.15);\n",
       "      fill: #174EA6;\n",
       "    }\n",
       "\n",
       "    [theme=dark] .colab-df-convert {\n",
       "      background-color: #3B4455;\n",
       "      fill: #D2E3FC;\n",
       "    }\n",
       "\n",
       "    [theme=dark] .colab-df-convert:hover {\n",
       "      background-color: #434B5C;\n",
       "      box-shadow: 0px 1px 3px 1px rgba(0, 0, 0, 0.15);\n",
       "      filter: drop-shadow(0px 1px 2px rgba(0, 0, 0, 0.3));\n",
       "      fill: #FFFFFF;\n",
       "    }\n",
       "  </style>\n",
       "\n",
       "      <script>\n",
       "        const buttonEl =\n",
       "          document.querySelector('#df-b6bde7ec-f1fa-4d95-8519-1cc9b0f72d11 button.colab-df-convert');\n",
       "        buttonEl.style.display =\n",
       "          google.colab.kernel.accessAllowed ? 'block' : 'none';\n",
       "\n",
       "        async function convertToInteractive(key) {\n",
       "          const element = document.querySelector('#df-b6bde7ec-f1fa-4d95-8519-1cc9b0f72d11');\n",
       "          const dataTable =\n",
       "            await google.colab.kernel.invokeFunction('convertToInteractive',\n",
       "                                                     [key], {});\n",
       "          if (!dataTable) return;\n",
       "\n",
       "          const docLinkHtml = 'Like what you see? Visit the ' +\n",
       "            '<a target=\"_blank\" href=https://colab.research.google.com/notebooks/data_table.ipynb>data table notebook</a>'\n",
       "            + ' to learn more about interactive tables.';\n",
       "          element.innerHTML = '';\n",
       "          dataTable['output_type'] = 'display_data';\n",
       "          await google.colab.output.renderOutput(dataTable, element);\n",
       "          const docLink = document.createElement('div');\n",
       "          docLink.innerHTML = docLinkHtml;\n",
       "          element.appendChild(docLink);\n",
       "        }\n",
       "      </script>\n",
       "    </div>\n",
       "  </div>\n",
       "  "
      ],
      "text/plain": [
       "      document                 tweeter  \\\n",
       "0            1                 dr_menn   \n",
       "1            2              mhhighered   \n",
       "2            3               edtechdev   \n",
       "3            4                kthompso   \n",
       "4            5            angelagunder   \n",
       "...        ...                     ...   \n",
       "1756      1523           Angela Gibson   \n",
       "1757      1525           Angela Gibson   \n",
       "1758      1630             Holly Owens   \n",
       "1759      1671           Angela Gibson   \n",
       "1760      1719  David Proudfoot, Ed.D.   \n",
       "\n",
       "                                      tweetTextOriginal  Followers  Follows  \\\n",
       "0     you know you’ve been immersed in olctoday’s ol...      272.0    497.0   \n",
       "1       icymi asu  ucf were awarded the digital inno...    17432.0   5749.0   \n",
       "2     added the peralta equity rubric  to this list ...     3779.0   3716.0   \n",
       "3     i appreciate the reflective gratitude and the ...     2440.0   1232.0   \n",
       "4     hey olcaccelerate fomofest  i was so busy this...      684.0    698.0   \n",
       "...                                                 ...        ...      ...   \n",
       "1756                   thank you olctoday olcaccelerate        NaN      NaN   \n",
       "1757         bestintrack thanks olctoday olcaccelerate         NaN      NaN   \n",
       "1758                we’re here olcaccelerate jlabeatnik        NaN      NaN   \n",
       "1759                       hello olctoday olcaccelerate        NaN      NaN   \n",
       "1760  first ones here first ones here olctoday olcac...        NaN      NaN   \n",
       "\n",
       "     Replies exist? (Y or N) Activity  \n",
       "0                          N       PS  \n",
       "1                          N       CI  \n",
       "2                          N      NKA  \n",
       "3                          N       PN  \n",
       "4                          Y       PS  \n",
       "...                      ...      ...  \n",
       "1756                       Y       PS  \n",
       "1757                       Y       PS  \n",
       "1758                       N       PS  \n",
       "1759                       Y       PS  \n",
       "1760                       N       PS  \n",
       "\n",
       "[1761 rows x 7 columns]"
      ]
     },
     "execution_count": 51,
     "metadata": {},
     "output_type": "execute_result"
    }
   ],
   "source": [
    "def remove_space(text):\n",
    "    text = text.strip()\n",
    "    return text\n",
    "dataClean['Activity'] = data['Activity'].map(remove_space)\n",
    "dataClean"
   ]
  },
  {
   "cell_type": "code",
   "execution_count": 52,
   "id": "55666e7a",
   "metadata": {
    "colab": {
     "base_uri": "https://localhost:8080/"
    },
    "id": "55666e7a",
    "outputId": "d0140c22-cb7c-4427-8cd3-2959c5b61436"
   },
   "outputs": [
    {
     "data": {
      "text/plain": [
       "array(['PS', 'CI', 'NKA', 'PN'], dtype=object)"
      ]
     },
     "execution_count": 52,
     "metadata": {},
     "output_type": "execute_result"
    }
   ],
   "source": [
    "dataClean['Activity'].unique()"
   ]
  },
  {
   "cell_type": "code",
   "execution_count": 53,
   "id": "acbd1a07",
   "metadata": {
    "colab": {
     "base_uri": "https://localhost:8080/"
    },
    "id": "acbd1a07",
    "outputId": "c7d576bc-ded7-4842-a4b1-eace07a989c0"
   },
   "outputs": [
    {
     "data": {
      "text/plain": [
       "document                    0\n",
       "tweeter                     0\n",
       "tweetTextOriginal           0\n",
       "Followers                  11\n",
       "Follows                    11\n",
       "Replies exist? (Y or N)    28\n",
       "Activity                    0\n",
       "dtype: int64"
      ]
     },
     "execution_count": 53,
     "metadata": {},
     "output_type": "execute_result"
    }
   ],
   "source": [
    "# check for missing values\n",
    "dataClean.isnull().sum()"
   ]
  },
  {
   "cell_type": "code",
   "execution_count": 54,
   "id": "614b10a5",
   "metadata": {
    "colab": {
     "base_uri": "https://localhost:8080/",
     "height": 424
    },
    "id": "614b10a5",
    "outputId": "ceac1239-e419-4236-fcde-ee13cef3e5b7"
   },
   "outputs": [
    {
     "data": {
      "text/html": [
       "\n",
       "  <div id=\"df-969ff599-7793-467f-a783-8dd38769ed3f\">\n",
       "    <div class=\"colab-df-container\">\n",
       "      <div>\n",
       "<style scoped>\n",
       "    .dataframe tbody tr th:only-of-type {\n",
       "        vertical-align: middle;\n",
       "    }\n",
       "\n",
       "    .dataframe tbody tr th {\n",
       "        vertical-align: top;\n",
       "    }\n",
       "\n",
       "    .dataframe thead th {\n",
       "        text-align: right;\n",
       "    }\n",
       "</style>\n",
       "<table border=\"1\" class=\"dataframe\">\n",
       "  <thead>\n",
       "    <tr style=\"text-align: right;\">\n",
       "      <th></th>\n",
       "      <th>document</th>\n",
       "      <th>tweeter</th>\n",
       "      <th>tweetTextOriginal</th>\n",
       "      <th>Followers</th>\n",
       "      <th>Follows</th>\n",
       "      <th>Replies exist? (Y or N)</th>\n",
       "      <th>Activity</th>\n",
       "    </tr>\n",
       "  </thead>\n",
       "  <tbody>\n",
       "    <tr>\n",
       "      <th>0</th>\n",
       "      <td>1</td>\n",
       "      <td>dr_menn</td>\n",
       "      <td>you know you’ve been immersed in olctoday’s ol...</td>\n",
       "      <td>272.0</td>\n",
       "      <td>497.0</td>\n",
       "      <td>N</td>\n",
       "      <td>PS</td>\n",
       "    </tr>\n",
       "    <tr>\n",
       "      <th>1</th>\n",
       "      <td>2</td>\n",
       "      <td>mhhighered</td>\n",
       "      <td>icymi asu  ucf were awarded the digital inno...</td>\n",
       "      <td>17432.0</td>\n",
       "      <td>5749.0</td>\n",
       "      <td>N</td>\n",
       "      <td>CI</td>\n",
       "    </tr>\n",
       "    <tr>\n",
       "      <th>2</th>\n",
       "      <td>3</td>\n",
       "      <td>edtechdev</td>\n",
       "      <td>added the peralta equity rubric  to this list ...</td>\n",
       "      <td>3779.0</td>\n",
       "      <td>3716.0</td>\n",
       "      <td>N</td>\n",
       "      <td>NKA</td>\n",
       "    </tr>\n",
       "    <tr>\n",
       "      <th>3</th>\n",
       "      <td>4</td>\n",
       "      <td>kthompso</td>\n",
       "      <td>i appreciate the reflective gratitude and the ...</td>\n",
       "      <td>2440.0</td>\n",
       "      <td>1232.0</td>\n",
       "      <td>N</td>\n",
       "      <td>PN</td>\n",
       "    </tr>\n",
       "    <tr>\n",
       "      <th>4</th>\n",
       "      <td>5</td>\n",
       "      <td>angelagunder</td>\n",
       "      <td>hey olcaccelerate fomofest  i was so busy this...</td>\n",
       "      <td>684.0</td>\n",
       "      <td>698.0</td>\n",
       "      <td>Y</td>\n",
       "      <td>PS</td>\n",
       "    </tr>\n",
       "    <tr>\n",
       "      <th>...</th>\n",
       "      <td>...</td>\n",
       "      <td>...</td>\n",
       "      <td>...</td>\n",
       "      <td>...</td>\n",
       "      <td>...</td>\n",
       "      <td>...</td>\n",
       "      <td>...</td>\n",
       "    </tr>\n",
       "    <tr>\n",
       "      <th>1745</th>\n",
       "      <td>1778</td>\n",
       "      <td>OLCToday</td>\n",
       "      <td>have you begun mapping out a plan for olcaccel...</td>\n",
       "      <td>16584.0</td>\n",
       "      <td>9329.0</td>\n",
       "      <td>Y</td>\n",
       "      <td>CI</td>\n",
       "    </tr>\n",
       "    <tr>\n",
       "      <th>1746</th>\n",
       "      <td>1779</td>\n",
       "      <td>proudfootedu</td>\n",
       "      <td>anyone at olctoday  olcaccelerate have the tim...</td>\n",
       "      <td>244.0</td>\n",
       "      <td>631.0</td>\n",
       "      <td>N</td>\n",
       "      <td>PN</td>\n",
       "    </tr>\n",
       "    <tr>\n",
       "      <th>1747</th>\n",
       "      <td>1780</td>\n",
       "      <td>OLCToday</td>\n",
       "      <td>many of us will be attending mickey’s very mer...</td>\n",
       "      <td>16584.0</td>\n",
       "      <td>9329.0</td>\n",
       "      <td>N</td>\n",
       "      <td>PN</td>\n",
       "    </tr>\n",
       "    <tr>\n",
       "      <th>1748</th>\n",
       "      <td>1781</td>\n",
       "      <td>JillBuban</td>\n",
       "      <td>excellent read on the landscape of digital lea...</td>\n",
       "      <td>1085.0</td>\n",
       "      <td>945.0</td>\n",
       "      <td>N</td>\n",
       "      <td>NKA</td>\n",
       "    </tr>\n",
       "    <tr>\n",
       "      <th>1749</th>\n",
       "      <td>1782</td>\n",
       "      <td>OLCToday</td>\n",
       "      <td>getting hungry for olcaccelerates technology t...</td>\n",
       "      <td>16584.0</td>\n",
       "      <td>9329.0</td>\n",
       "      <td>N</td>\n",
       "      <td>CI</td>\n",
       "    </tr>\n",
       "  </tbody>\n",
       "</table>\n",
       "<p>1722 rows × 7 columns</p>\n",
       "</div>\n",
       "      <button class=\"colab-df-convert\" onclick=\"convertToInteractive('df-969ff599-7793-467f-a783-8dd38769ed3f')\"\n",
       "              title=\"Convert this dataframe to an interactive table.\"\n",
       "              style=\"display:none;\">\n",
       "        \n",
       "  <svg xmlns=\"http://www.w3.org/2000/svg\" height=\"24px\"viewBox=\"0 0 24 24\"\n",
       "       width=\"24px\">\n",
       "    <path d=\"M0 0h24v24H0V0z\" fill=\"none\"/>\n",
       "    <path d=\"M18.56 5.44l.94 2.06.94-2.06 2.06-.94-2.06-.94-.94-2.06-.94 2.06-2.06.94zm-11 1L8.5 8.5l.94-2.06 2.06-.94-2.06-.94L8.5 2.5l-.94 2.06-2.06.94zm10 10l.94 2.06.94-2.06 2.06-.94-2.06-.94-.94-2.06-.94 2.06-2.06.94z\"/><path d=\"M17.41 7.96l-1.37-1.37c-.4-.4-.92-.59-1.43-.59-.52 0-1.04.2-1.43.59L10.3 9.45l-7.72 7.72c-.78.78-.78 2.05 0 2.83L4 21.41c.39.39.9.59 1.41.59.51 0 1.02-.2 1.41-.59l7.78-7.78 2.81-2.81c.8-.78.8-2.07 0-2.86zM5.41 20L4 18.59l7.72-7.72 1.47 1.35L5.41 20z\"/>\n",
       "  </svg>\n",
       "      </button>\n",
       "      \n",
       "  <style>\n",
       "    .colab-df-container {\n",
       "      display:flex;\n",
       "      flex-wrap:wrap;\n",
       "      gap: 12px;\n",
       "    }\n",
       "\n",
       "    .colab-df-convert {\n",
       "      background-color: #E8F0FE;\n",
       "      border: none;\n",
       "      border-radius: 50%;\n",
       "      cursor: pointer;\n",
       "      display: none;\n",
       "      fill: #1967D2;\n",
       "      height: 32px;\n",
       "      padding: 0 0 0 0;\n",
       "      width: 32px;\n",
       "    }\n",
       "\n",
       "    .colab-df-convert:hover {\n",
       "      background-color: #E2EBFA;\n",
       "      box-shadow: 0px 1px 2px rgba(60, 64, 67, 0.3), 0px 1px 3px 1px rgba(60, 64, 67, 0.15);\n",
       "      fill: #174EA6;\n",
       "    }\n",
       "\n",
       "    [theme=dark] .colab-df-convert {\n",
       "      background-color: #3B4455;\n",
       "      fill: #D2E3FC;\n",
       "    }\n",
       "\n",
       "    [theme=dark] .colab-df-convert:hover {\n",
       "      background-color: #434B5C;\n",
       "      box-shadow: 0px 1px 3px 1px rgba(0, 0, 0, 0.15);\n",
       "      filter: drop-shadow(0px 1px 2px rgba(0, 0, 0, 0.3));\n",
       "      fill: #FFFFFF;\n",
       "    }\n",
       "  </style>\n",
       "\n",
       "      <script>\n",
       "        const buttonEl =\n",
       "          document.querySelector('#df-969ff599-7793-467f-a783-8dd38769ed3f button.colab-df-convert');\n",
       "        buttonEl.style.display =\n",
       "          google.colab.kernel.accessAllowed ? 'block' : 'none';\n",
       "\n",
       "        async function convertToInteractive(key) {\n",
       "          const element = document.querySelector('#df-969ff599-7793-467f-a783-8dd38769ed3f');\n",
       "          const dataTable =\n",
       "            await google.colab.kernel.invokeFunction('convertToInteractive',\n",
       "                                                     [key], {});\n",
       "          if (!dataTable) return;\n",
       "\n",
       "          const docLinkHtml = 'Like what you see? Visit the ' +\n",
       "            '<a target=\"_blank\" href=https://colab.research.google.com/notebooks/data_table.ipynb>data table notebook</a>'\n",
       "            + ' to learn more about interactive tables.';\n",
       "          element.innerHTML = '';\n",
       "          dataTable['output_type'] = 'display_data';\n",
       "          await google.colab.output.renderOutput(dataTable, element);\n",
       "          const docLink = document.createElement('div');\n",
       "          docLink.innerHTML = docLinkHtml;\n",
       "          element.appendChild(docLink);\n",
       "        }\n",
       "      </script>\n",
       "    </div>\n",
       "  </div>\n",
       "  "
      ],
      "text/plain": [
       "      document       tweeter  \\\n",
       "0            1       dr_menn   \n",
       "1            2    mhhighered   \n",
       "2            3     edtechdev   \n",
       "3            4      kthompso   \n",
       "4            5  angelagunder   \n",
       "...        ...           ...   \n",
       "1745      1778      OLCToday   \n",
       "1746      1779  proudfootedu   \n",
       "1747      1780      OLCToday   \n",
       "1748      1781     JillBuban   \n",
       "1749      1782      OLCToday   \n",
       "\n",
       "                                      tweetTextOriginal  Followers  Follows  \\\n",
       "0     you know you’ve been immersed in olctoday’s ol...      272.0    497.0   \n",
       "1       icymi asu  ucf were awarded the digital inno...    17432.0   5749.0   \n",
       "2     added the peralta equity rubric  to this list ...     3779.0   3716.0   \n",
       "3     i appreciate the reflective gratitude and the ...     2440.0   1232.0   \n",
       "4     hey olcaccelerate fomofest  i was so busy this...      684.0    698.0   \n",
       "...                                                 ...        ...      ...   \n",
       "1745  have you begun mapping out a plan for olcaccel...    16584.0   9329.0   \n",
       "1746  anyone at olctoday  olcaccelerate have the tim...      244.0    631.0   \n",
       "1747  many of us will be attending mickey’s very mer...    16584.0   9329.0   \n",
       "1748  excellent read on the landscape of digital lea...     1085.0    945.0   \n",
       "1749  getting hungry for olcaccelerates technology t...    16584.0   9329.0   \n",
       "\n",
       "     Replies exist? (Y or N) Activity  \n",
       "0                          N       PS  \n",
       "1                          N       CI  \n",
       "2                          N      NKA  \n",
       "3                          N       PN  \n",
       "4                          Y       PS  \n",
       "...                      ...      ...  \n",
       "1745                       Y       CI  \n",
       "1746                       N       PN  \n",
       "1747                       N       PN  \n",
       "1748                       N      NKA  \n",
       "1749                       N       CI  \n",
       "\n",
       "[1722 rows x 7 columns]"
      ]
     },
     "execution_count": 54,
     "metadata": {},
     "output_type": "execute_result"
    }
   ],
   "source": [
    "# drop missing values\n",
    "dataClean = dataClean.dropna()\n",
    "dataClean"
   ]
  },
  {
   "cell_type": "markdown",
   "id": "0160d2c2",
   "metadata": {
    "id": "0160d2c2"
   },
   "source": [
    "## Organizing Data"
   ]
  },
  {
   "cell_type": "markdown",
   "id": "Trm6Pvc2YAPt",
   "metadata": {
    "id": "Trm6Pvc2YAPt"
   },
   "source": [
    "Now, the data is almost ready to be analyzed. But before that, there are two important concepts for text formats we need to know:\n",
    "* **Corpus**: a collection of text\n",
    "* **Document-Term Matrix**: word counts in matrix format\n",
    "\n",
    "What we already have is a corpus. It is human-readable because it stores the data in a natural language style. However, For many of the techniques we'll be using, algorithms do not recognize our natural language. Particularly, the statistics tools we have been using/learning relies on processing quantifiable numbers.\n",
    "\n",
    "As a result, we need to tokenize the text/corpus, meaning broken the text down into smaller pieces. The most common tokenization technique is to break down text into words. Essentially, we are taking a dictionary of words and mark the occurence frequency and/or the order of each word for each text in the corpus. Then we can represent a corpus in the quantitative (but not quite human-readable) way. And it is called Document-Term Matrix, where every row will represent a different document and every column will represent a different word.\n",
    "\n",
    "You can imagine that once the documents get longer and complicated, we may be dealing with a very wide and sparse matrix, which is not ideal for any statistics modeling. Therefore, we have two more important concepts to help simplify the process\n",
    "\n",
    "* **Bag-of-words**: We treat each document as a big bag of words. We don't necessarily care the orders of the words (i.e., grammar) at this stage. Just knowing the semantic meaning of each words can already tell us a lot. In fact, aoccdrnig to a rscheearch at Cmabrigde Uinervtisy, it deosn't mttaer in waht oredr the ltteers in a wrod are.\n",
    "* **Stop words**: They are a set of commonly used words in a language. Examples of stop words in English are “a”, “the”, “is”, “are” and etc. Stop words are so commonly used that they carry very little useful information. So getting rid of them might be a good idea.\n",
    "\n",
    "Although the task can sound complicated, We can automate this using scikit-learn's CountVectorizer() to build a document-term matrix in a BOW style without the common stop words fairly easily.\n",
    "\n",
    "In cv= CountVectorizer(), CountVectorizer() randomly assigns a number to each word in a process called tokenizing. Then, it counts the number of occurrences of words and saves it to cv. At this point, we’ve only assigned a method to cv."
   ]
  },
  {
   "cell_type": "code",
   "execution_count": 55,
   "id": "e11d8b84",
   "metadata": {
    "colab": {
     "base_uri": "https://localhost:8080/",
     "height": 424
    },
    "id": "e11d8b84",
    "outputId": "7702f4fc-cb00-49d9-f7d3-07923638258a"
   },
   "outputs": [
    {
     "data": {
      "text/html": [
       "\n",
       "  <div id=\"df-04df52d5-70e6-478d-b200-cfd987399b69\">\n",
       "    <div class=\"colab-df-container\">\n",
       "      <div>\n",
       "<style scoped>\n",
       "    .dataframe tbody tr th:only-of-type {\n",
       "        vertical-align: middle;\n",
       "    }\n",
       "\n",
       "    .dataframe tbody tr th {\n",
       "        vertical-align: top;\n",
       "    }\n",
       "\n",
       "    .dataframe thead th {\n",
       "        text-align: right;\n",
       "    }\n",
       "</style>\n",
       "<table border=\"1\" class=\"dataframe\">\n",
       "  <thead>\n",
       "    <tr style=\"text-align: right;\">\n",
       "      <th></th>\n",
       "      <th>aa</th>\n",
       "      <th>able</th>\n",
       "      <th>absence</th>\n",
       "      <th>absolute</th>\n",
       "      <th>absolutely</th>\n",
       "      <th>absorbing</th>\n",
       "      <th>abt</th>\n",
       "      <th>abundance</th>\n",
       "      <th>abusing</th>\n",
       "      <th>academia</th>\n",
       "      <th>...</th>\n",
       "      <th>yuengling</th>\n",
       "      <th>zen</th>\n",
       "      <th>zero</th>\n",
       "      <th>zhadko</th>\n",
       "      <th>zing</th>\n",
       "      <th>zone</th>\n",
       "      <th>zoom</th>\n",
       "      <th>zoomus</th>\n",
       "      <th>zydney</th>\n",
       "      <th>zydneys</th>\n",
       "    </tr>\n",
       "  </thead>\n",
       "  <tbody>\n",
       "    <tr>\n",
       "      <th>0</th>\n",
       "      <td>0</td>\n",
       "      <td>0</td>\n",
       "      <td>0</td>\n",
       "      <td>0</td>\n",
       "      <td>0</td>\n",
       "      <td>0</td>\n",
       "      <td>0</td>\n",
       "      <td>0</td>\n",
       "      <td>0</td>\n",
       "      <td>0</td>\n",
       "      <td>...</td>\n",
       "      <td>0</td>\n",
       "      <td>0</td>\n",
       "      <td>0</td>\n",
       "      <td>0</td>\n",
       "      <td>0</td>\n",
       "      <td>0</td>\n",
       "      <td>0</td>\n",
       "      <td>0</td>\n",
       "      <td>0</td>\n",
       "      <td>0</td>\n",
       "    </tr>\n",
       "    <tr>\n",
       "      <th>1</th>\n",
       "      <td>0</td>\n",
       "      <td>0</td>\n",
       "      <td>0</td>\n",
       "      <td>0</td>\n",
       "      <td>0</td>\n",
       "      <td>0</td>\n",
       "      <td>0</td>\n",
       "      <td>0</td>\n",
       "      <td>0</td>\n",
       "      <td>0</td>\n",
       "      <td>...</td>\n",
       "      <td>0</td>\n",
       "      <td>0</td>\n",
       "      <td>0</td>\n",
       "      <td>0</td>\n",
       "      <td>0</td>\n",
       "      <td>0</td>\n",
       "      <td>0</td>\n",
       "      <td>0</td>\n",
       "      <td>0</td>\n",
       "      <td>0</td>\n",
       "    </tr>\n",
       "    <tr>\n",
       "      <th>2</th>\n",
       "      <td>0</td>\n",
       "      <td>0</td>\n",
       "      <td>0</td>\n",
       "      <td>0</td>\n",
       "      <td>0</td>\n",
       "      <td>0</td>\n",
       "      <td>0</td>\n",
       "      <td>0</td>\n",
       "      <td>0</td>\n",
       "      <td>0</td>\n",
       "      <td>...</td>\n",
       "      <td>0</td>\n",
       "      <td>0</td>\n",
       "      <td>0</td>\n",
       "      <td>0</td>\n",
       "      <td>0</td>\n",
       "      <td>0</td>\n",
       "      <td>0</td>\n",
       "      <td>0</td>\n",
       "      <td>0</td>\n",
       "      <td>0</td>\n",
       "    </tr>\n",
       "    <tr>\n",
       "      <th>3</th>\n",
       "      <td>0</td>\n",
       "      <td>0</td>\n",
       "      <td>0</td>\n",
       "      <td>0</td>\n",
       "      <td>0</td>\n",
       "      <td>0</td>\n",
       "      <td>0</td>\n",
       "      <td>0</td>\n",
       "      <td>0</td>\n",
       "      <td>0</td>\n",
       "      <td>...</td>\n",
       "      <td>0</td>\n",
       "      <td>0</td>\n",
       "      <td>0</td>\n",
       "      <td>0</td>\n",
       "      <td>0</td>\n",
       "      <td>0</td>\n",
       "      <td>0</td>\n",
       "      <td>0</td>\n",
       "      <td>0</td>\n",
       "      <td>0</td>\n",
       "    </tr>\n",
       "    <tr>\n",
       "      <th>4</th>\n",
       "      <td>0</td>\n",
       "      <td>0</td>\n",
       "      <td>0</td>\n",
       "      <td>0</td>\n",
       "      <td>0</td>\n",
       "      <td>0</td>\n",
       "      <td>0</td>\n",
       "      <td>0</td>\n",
       "      <td>0</td>\n",
       "      <td>0</td>\n",
       "      <td>...</td>\n",
       "      <td>0</td>\n",
       "      <td>0</td>\n",
       "      <td>0</td>\n",
       "      <td>0</td>\n",
       "      <td>0</td>\n",
       "      <td>0</td>\n",
       "      <td>0</td>\n",
       "      <td>0</td>\n",
       "      <td>0</td>\n",
       "      <td>0</td>\n",
       "    </tr>\n",
       "    <tr>\n",
       "      <th>...</th>\n",
       "      <td>...</td>\n",
       "      <td>...</td>\n",
       "      <td>...</td>\n",
       "      <td>...</td>\n",
       "      <td>...</td>\n",
       "      <td>...</td>\n",
       "      <td>...</td>\n",
       "      <td>...</td>\n",
       "      <td>...</td>\n",
       "      <td>...</td>\n",
       "      <td>...</td>\n",
       "      <td>...</td>\n",
       "      <td>...</td>\n",
       "      <td>...</td>\n",
       "      <td>...</td>\n",
       "      <td>...</td>\n",
       "      <td>...</td>\n",
       "      <td>...</td>\n",
       "      <td>...</td>\n",
       "      <td>...</td>\n",
       "      <td>...</td>\n",
       "    </tr>\n",
       "    <tr>\n",
       "      <th>1745</th>\n",
       "      <td>0</td>\n",
       "      <td>0</td>\n",
       "      <td>0</td>\n",
       "      <td>0</td>\n",
       "      <td>0</td>\n",
       "      <td>0</td>\n",
       "      <td>0</td>\n",
       "      <td>0</td>\n",
       "      <td>0</td>\n",
       "      <td>0</td>\n",
       "      <td>...</td>\n",
       "      <td>0</td>\n",
       "      <td>0</td>\n",
       "      <td>0</td>\n",
       "      <td>0</td>\n",
       "      <td>0</td>\n",
       "      <td>0</td>\n",
       "      <td>0</td>\n",
       "      <td>0</td>\n",
       "      <td>0</td>\n",
       "      <td>0</td>\n",
       "    </tr>\n",
       "    <tr>\n",
       "      <th>1746</th>\n",
       "      <td>0</td>\n",
       "      <td>0</td>\n",
       "      <td>0</td>\n",
       "      <td>0</td>\n",
       "      <td>0</td>\n",
       "      <td>0</td>\n",
       "      <td>0</td>\n",
       "      <td>0</td>\n",
       "      <td>0</td>\n",
       "      <td>0</td>\n",
       "      <td>...</td>\n",
       "      <td>0</td>\n",
       "      <td>0</td>\n",
       "      <td>0</td>\n",
       "      <td>0</td>\n",
       "      <td>0</td>\n",
       "      <td>0</td>\n",
       "      <td>0</td>\n",
       "      <td>0</td>\n",
       "      <td>0</td>\n",
       "      <td>0</td>\n",
       "    </tr>\n",
       "    <tr>\n",
       "      <th>1747</th>\n",
       "      <td>0</td>\n",
       "      <td>0</td>\n",
       "      <td>0</td>\n",
       "      <td>0</td>\n",
       "      <td>0</td>\n",
       "      <td>0</td>\n",
       "      <td>0</td>\n",
       "      <td>0</td>\n",
       "      <td>0</td>\n",
       "      <td>0</td>\n",
       "      <td>...</td>\n",
       "      <td>0</td>\n",
       "      <td>0</td>\n",
       "      <td>0</td>\n",
       "      <td>0</td>\n",
       "      <td>0</td>\n",
       "      <td>0</td>\n",
       "      <td>0</td>\n",
       "      <td>0</td>\n",
       "      <td>0</td>\n",
       "      <td>0</td>\n",
       "    </tr>\n",
       "    <tr>\n",
       "      <th>1748</th>\n",
       "      <td>0</td>\n",
       "      <td>0</td>\n",
       "      <td>0</td>\n",
       "      <td>0</td>\n",
       "      <td>0</td>\n",
       "      <td>0</td>\n",
       "      <td>0</td>\n",
       "      <td>0</td>\n",
       "      <td>0</td>\n",
       "      <td>0</td>\n",
       "      <td>...</td>\n",
       "      <td>0</td>\n",
       "      <td>0</td>\n",
       "      <td>0</td>\n",
       "      <td>0</td>\n",
       "      <td>0</td>\n",
       "      <td>0</td>\n",
       "      <td>0</td>\n",
       "      <td>0</td>\n",
       "      <td>0</td>\n",
       "      <td>0</td>\n",
       "    </tr>\n",
       "    <tr>\n",
       "      <th>1749</th>\n",
       "      <td>0</td>\n",
       "      <td>0</td>\n",
       "      <td>0</td>\n",
       "      <td>0</td>\n",
       "      <td>0</td>\n",
       "      <td>0</td>\n",
       "      <td>0</td>\n",
       "      <td>0</td>\n",
       "      <td>0</td>\n",
       "      <td>0</td>\n",
       "      <td>...</td>\n",
       "      <td>0</td>\n",
       "      <td>0</td>\n",
       "      <td>0</td>\n",
       "      <td>0</td>\n",
       "      <td>0</td>\n",
       "      <td>0</td>\n",
       "      <td>0</td>\n",
       "      <td>0</td>\n",
       "      <td>0</td>\n",
       "      <td>0</td>\n",
       "    </tr>\n",
       "  </tbody>\n",
       "</table>\n",
       "<p>1722 rows × 5019 columns</p>\n",
       "</div>\n",
       "      <button class=\"colab-df-convert\" onclick=\"convertToInteractive('df-04df52d5-70e6-478d-b200-cfd987399b69')\"\n",
       "              title=\"Convert this dataframe to an interactive table.\"\n",
       "              style=\"display:none;\">\n",
       "        \n",
       "  <svg xmlns=\"http://www.w3.org/2000/svg\" height=\"24px\"viewBox=\"0 0 24 24\"\n",
       "       width=\"24px\">\n",
       "    <path d=\"M0 0h24v24H0V0z\" fill=\"none\"/>\n",
       "    <path d=\"M18.56 5.44l.94 2.06.94-2.06 2.06-.94-2.06-.94-.94-2.06-.94 2.06-2.06.94zm-11 1L8.5 8.5l.94-2.06 2.06-.94-2.06-.94L8.5 2.5l-.94 2.06-2.06.94zm10 10l.94 2.06.94-2.06 2.06-.94-2.06-.94-.94-2.06-.94 2.06-2.06.94z\"/><path d=\"M17.41 7.96l-1.37-1.37c-.4-.4-.92-.59-1.43-.59-.52 0-1.04.2-1.43.59L10.3 9.45l-7.72 7.72c-.78.78-.78 2.05 0 2.83L4 21.41c.39.39.9.59 1.41.59.51 0 1.02-.2 1.41-.59l7.78-7.78 2.81-2.81c.8-.78.8-2.07 0-2.86zM5.41 20L4 18.59l7.72-7.72 1.47 1.35L5.41 20z\"/>\n",
       "  </svg>\n",
       "      </button>\n",
       "      \n",
       "  <style>\n",
       "    .colab-df-container {\n",
       "      display:flex;\n",
       "      flex-wrap:wrap;\n",
       "      gap: 12px;\n",
       "    }\n",
       "\n",
       "    .colab-df-convert {\n",
       "      background-color: #E8F0FE;\n",
       "      border: none;\n",
       "      border-radius: 50%;\n",
       "      cursor: pointer;\n",
       "      display: none;\n",
       "      fill: #1967D2;\n",
       "      height: 32px;\n",
       "      padding: 0 0 0 0;\n",
       "      width: 32px;\n",
       "    }\n",
       "\n",
       "    .colab-df-convert:hover {\n",
       "      background-color: #E2EBFA;\n",
       "      box-shadow: 0px 1px 2px rgba(60, 64, 67, 0.3), 0px 1px 3px 1px rgba(60, 64, 67, 0.15);\n",
       "      fill: #174EA6;\n",
       "    }\n",
       "\n",
       "    [theme=dark] .colab-df-convert {\n",
       "      background-color: #3B4455;\n",
       "      fill: #D2E3FC;\n",
       "    }\n",
       "\n",
       "    [theme=dark] .colab-df-convert:hover {\n",
       "      background-color: #434B5C;\n",
       "      box-shadow: 0px 1px 3px 1px rgba(0, 0, 0, 0.15);\n",
       "      filter: drop-shadow(0px 1px 2px rgba(0, 0, 0, 0.3));\n",
       "      fill: #FFFFFF;\n",
       "    }\n",
       "  </style>\n",
       "\n",
       "      <script>\n",
       "        const buttonEl =\n",
       "          document.querySelector('#df-04df52d5-70e6-478d-b200-cfd987399b69 button.colab-df-convert');\n",
       "        buttonEl.style.display =\n",
       "          google.colab.kernel.accessAllowed ? 'block' : 'none';\n",
       "\n",
       "        async function convertToInteractive(key) {\n",
       "          const element = document.querySelector('#df-04df52d5-70e6-478d-b200-cfd987399b69');\n",
       "          const dataTable =\n",
       "            await google.colab.kernel.invokeFunction('convertToInteractive',\n",
       "                                                     [key], {});\n",
       "          if (!dataTable) return;\n",
       "\n",
       "          const docLinkHtml = 'Like what you see? Visit the ' +\n",
       "            '<a target=\"_blank\" href=https://colab.research.google.com/notebooks/data_table.ipynb>data table notebook</a>'\n",
       "            + ' to learn more about interactive tables.';\n",
       "          element.innerHTML = '';\n",
       "          dataTable['output_type'] = 'display_data';\n",
       "          await google.colab.output.renderOutput(dataTable, element);\n",
       "          const docLink = document.createElement('div');\n",
       "          docLink.innerHTML = docLinkHtml;\n",
       "          element.appendChild(docLink);\n",
       "        }\n",
       "      </script>\n",
       "    </div>\n",
       "  </div>\n",
       "  "
      ],
      "text/plain": [
       "      aa  able  absence  absolute  absolutely  absorbing  abt  abundance  \\\n",
       "0      0     0        0         0           0          0    0          0   \n",
       "1      0     0        0         0           0          0    0          0   \n",
       "2      0     0        0         0           0          0    0          0   \n",
       "3      0     0        0         0           0          0    0          0   \n",
       "4      0     0        0         0           0          0    0          0   \n",
       "...   ..   ...      ...       ...         ...        ...  ...        ...   \n",
       "1745   0     0        0         0           0          0    0          0   \n",
       "1746   0     0        0         0           0          0    0          0   \n",
       "1747   0     0        0         0           0          0    0          0   \n",
       "1748   0     0        0         0           0          0    0          0   \n",
       "1749   0     0        0         0           0          0    0          0   \n",
       "\n",
       "      abusing  academia  ...  yuengling  zen  zero  zhadko  zing  zone  zoom  \\\n",
       "0           0         0  ...          0    0     0       0     0     0     0   \n",
       "1           0         0  ...          0    0     0       0     0     0     0   \n",
       "2           0         0  ...          0    0     0       0     0     0     0   \n",
       "3           0         0  ...          0    0     0       0     0     0     0   \n",
       "4           0         0  ...          0    0     0       0     0     0     0   \n",
       "...       ...       ...  ...        ...  ...   ...     ...   ...   ...   ...   \n",
       "1745        0         0  ...          0    0     0       0     0     0     0   \n",
       "1746        0         0  ...          0    0     0       0     0     0     0   \n",
       "1747        0         0  ...          0    0     0       0     0     0     0   \n",
       "1748        0         0  ...          0    0     0       0     0     0     0   \n",
       "1749        0         0  ...          0    0     0       0     0     0     0   \n",
       "\n",
       "      zoomus  zydney  zydneys  \n",
       "0          0       0        0  \n",
       "1          0       0        0  \n",
       "2          0       0        0  \n",
       "3          0       0        0  \n",
       "4          0       0        0  \n",
       "...      ...     ...      ...  \n",
       "1745       0       0        0  \n",
       "1746       0       0        0  \n",
       "1747       0       0        0  \n",
       "1748       0       0        0  \n",
       "1749       0       0        0  \n",
       "\n",
       "[1722 rows x 5019 columns]"
      ]
     },
     "execution_count": 55,
     "metadata": {},
     "output_type": "execute_result"
    }
   ],
   "source": [
    "# We are going to create a document-term matrix using CountVectorizer\n",
    "from sklearn.feature_extraction.text import CountVectorizer\n",
    "\n",
    "cv = CountVectorizer(stop_words='english')\n",
    "\n",
    "commentCV = cv.fit_transform(dataClean['tweetTextOriginal'])\n",
    "commentCV_dtm = pd.DataFrame(commentCV.toarray(), columns = cv.get_feature_names_out())\n",
    "\n",
    "commentCV_dtm.index = dataClean['tweetTextOriginal'].index\n",
    "commentCV_dtm"
   ]
  },
  {
   "cell_type": "markdown",
   "id": "e33192f3",
   "metadata": {
    "id": "e33192f3"
   },
   "source": [
    "## Exploratory Analysis"
   ]
  },
  {
   "cell_type": "code",
   "execution_count": 56,
   "id": "f928f5ba",
   "metadata": {
    "colab": {
     "base_uri": "https://localhost:8080/",
     "height": 175
    },
    "id": "f928f5ba",
    "outputId": "13a70149-004c-489e-f50f-6748ee0e7cbd"
   },
   "outputs": [
    {
     "data": {
      "text/html": [
       "\n",
       "  <div id=\"df-b3a61399-d8bd-4e73-bedc-f41bad31aaa2\">\n",
       "    <div class=\"colab-df-container\">\n",
       "      <div>\n",
       "<style scoped>\n",
       "    .dataframe tbody tr th:only-of-type {\n",
       "        vertical-align: middle;\n",
       "    }\n",
       "\n",
       "    .dataframe tbody tr th {\n",
       "        vertical-align: top;\n",
       "    }\n",
       "\n",
       "    .dataframe thead tr th {\n",
       "        text-align: left;\n",
       "    }\n",
       "\n",
       "    .dataframe thead tr:last-of-type th {\n",
       "        text-align: right;\n",
       "    }\n",
       "</style>\n",
       "<table border=\"1\" class=\"dataframe\">\n",
       "  <thead>\n",
       "    <tr>\n",
       "      <th></th>\n",
       "      <th colspan=\"4\" halign=\"left\">document</th>\n",
       "    </tr>\n",
       "    <tr>\n",
       "      <th>Activity</th>\n",
       "      <th>CI</th>\n",
       "      <th>NKA</th>\n",
       "      <th>PN</th>\n",
       "      <th>PS</th>\n",
       "    </tr>\n",
       "    <tr>\n",
       "      <th>Replies exist? (Y or N)</th>\n",
       "      <th></th>\n",
       "      <th></th>\n",
       "      <th></th>\n",
       "      <th></th>\n",
       "    </tr>\n",
       "  </thead>\n",
       "  <tbody>\n",
       "    <tr>\n",
       "      <th>N</th>\n",
       "      <td>414</td>\n",
       "      <td>523</td>\n",
       "      <td>99</td>\n",
       "      <td>320</td>\n",
       "    </tr>\n",
       "    <tr>\n",
       "      <th>Y</th>\n",
       "      <td>73</td>\n",
       "      <td>119</td>\n",
       "      <td>73</td>\n",
       "      <td>101</td>\n",
       "    </tr>\n",
       "  </tbody>\n",
       "</table>\n",
       "</div>\n",
       "      <button class=\"colab-df-convert\" onclick=\"convertToInteractive('df-b3a61399-d8bd-4e73-bedc-f41bad31aaa2')\"\n",
       "              title=\"Convert this dataframe to an interactive table.\"\n",
       "              style=\"display:none;\">\n",
       "        \n",
       "  <svg xmlns=\"http://www.w3.org/2000/svg\" height=\"24px\"viewBox=\"0 0 24 24\"\n",
       "       width=\"24px\">\n",
       "    <path d=\"M0 0h24v24H0V0z\" fill=\"none\"/>\n",
       "    <path d=\"M18.56 5.44l.94 2.06.94-2.06 2.06-.94-2.06-.94-.94-2.06-.94 2.06-2.06.94zm-11 1L8.5 8.5l.94-2.06 2.06-.94-2.06-.94L8.5 2.5l-.94 2.06-2.06.94zm10 10l.94 2.06.94-2.06 2.06-.94-2.06-.94-.94-2.06-.94 2.06-2.06.94z\"/><path d=\"M17.41 7.96l-1.37-1.37c-.4-.4-.92-.59-1.43-.59-.52 0-1.04.2-1.43.59L10.3 9.45l-7.72 7.72c-.78.78-.78 2.05 0 2.83L4 21.41c.39.39.9.59 1.41.59.51 0 1.02-.2 1.41-.59l7.78-7.78 2.81-2.81c.8-.78.8-2.07 0-2.86zM5.41 20L4 18.59l7.72-7.72 1.47 1.35L5.41 20z\"/>\n",
       "  </svg>\n",
       "      </button>\n",
       "      \n",
       "  <style>\n",
       "    .colab-df-container {\n",
       "      display:flex;\n",
       "      flex-wrap:wrap;\n",
       "      gap: 12px;\n",
       "    }\n",
       "\n",
       "    .colab-df-convert {\n",
       "      background-color: #E8F0FE;\n",
       "      border: none;\n",
       "      border-radius: 50%;\n",
       "      cursor: pointer;\n",
       "      display: none;\n",
       "      fill: #1967D2;\n",
       "      height: 32px;\n",
       "      padding: 0 0 0 0;\n",
       "      width: 32px;\n",
       "    }\n",
       "\n",
       "    .colab-df-convert:hover {\n",
       "      background-color: #E2EBFA;\n",
       "      box-shadow: 0px 1px 2px rgba(60, 64, 67, 0.3), 0px 1px 3px 1px rgba(60, 64, 67, 0.15);\n",
       "      fill: #174EA6;\n",
       "    }\n",
       "\n",
       "    [theme=dark] .colab-df-convert {\n",
       "      background-color: #3B4455;\n",
       "      fill: #D2E3FC;\n",
       "    }\n",
       "\n",
       "    [theme=dark] .colab-df-convert:hover {\n",
       "      background-color: #434B5C;\n",
       "      box-shadow: 0px 1px 3px 1px rgba(0, 0, 0, 0.15);\n",
       "      filter: drop-shadow(0px 1px 2px rgba(0, 0, 0, 0.3));\n",
       "      fill: #FFFFFF;\n",
       "    }\n",
       "  </style>\n",
       "\n",
       "      <script>\n",
       "        const buttonEl =\n",
       "          document.querySelector('#df-b3a61399-d8bd-4e73-bedc-f41bad31aaa2 button.colab-df-convert');\n",
       "        buttonEl.style.display =\n",
       "          google.colab.kernel.accessAllowed ? 'block' : 'none';\n",
       "\n",
       "        async function convertToInteractive(key) {\n",
       "          const element = document.querySelector('#df-b3a61399-d8bd-4e73-bedc-f41bad31aaa2');\n",
       "          const dataTable =\n",
       "            await google.colab.kernel.invokeFunction('convertToInteractive',\n",
       "                                                     [key], {});\n",
       "          if (!dataTable) return;\n",
       "\n",
       "          const docLinkHtml = 'Like what you see? Visit the ' +\n",
       "            '<a target=\"_blank\" href=https://colab.research.google.com/notebooks/data_table.ipynb>data table notebook</a>'\n",
       "            + ' to learn more about interactive tables.';\n",
       "          element.innerHTML = '';\n",
       "          dataTable['output_type'] = 'display_data';\n",
       "          await google.colab.output.renderOutput(dataTable, element);\n",
       "          const docLink = document.createElement('div');\n",
       "          docLink.innerHTML = docLinkHtml;\n",
       "          element.appendChild(docLink);\n",
       "        }\n",
       "      </script>\n",
       "    </div>\n",
       "  </div>\n",
       "  "
      ],
      "text/plain": [
       "                        document              \n",
       "Activity                      CI  NKA  PN   PS\n",
       "Replies exist? (Y or N)                       \n",
       "N                            414  523  99  320\n",
       "Y                             73  119  73  101"
      ]
     },
     "execution_count": 56,
     "metadata": {},
     "output_type": "execute_result"
    }
   ],
   "source": [
    "# check the distribution of the tweet activities and replies\n",
    "dataClean[['document', 'Replies exist? (Y or N)', 'Activity']].groupby(['Replies exist? (Y or N)', \n",
    "                                                                        'Activity']).count().unstack()"
   ]
  },
  {
   "cell_type": "markdown",
   "id": "e8d77414",
   "metadata": {
    "id": "e8d77414"
   },
   "source": [
    "Overall, the distribution is skewed across the four activities -- there are more tweets that have no replies. Among the four activities, NKA tweets have the most replies of 119, while CI and PN tweets have the least replies of 73.\n",
    "\n",
    "Using the document-term matrix, we can calculate the term frequency to get the most frequently used words in all tweets. Below, we can find out the top 30 words."
   ]
  },
  {
   "cell_type": "code",
   "execution_count": 57,
   "id": "c1278488",
   "metadata": {
    "colab": {
     "base_uri": "https://localhost:8080/"
    },
    "id": "c1278488",
    "outputId": "f4b40e15-9335-4376-e93f-09e5a0c783fd"
   },
   "outputs": [
    {
     "data": {
      "text/plain": [
       "olcaccelerate    1808\n",
       "learning          247\n",
       "online            205\n",
       "olctoday          176\n",
       "fomofest          175\n",
       "session           135\n",
       "rt                126\n",
       "great             122\n",
       "join              120\n",
       "booth             118\n",
       "students          115\n",
       "conference        113\n",
       "today             111\n",
       "keynote            83\n",
       "just               81\n",
       "olc                80\n",
       "avantgame          78\n",
       "like               75\n",
       "time               74\n",
       "learn              74\n",
       "day                71\n",
       "come               69\n",
       "faculty            68\n",
       "new                65\n",
       "digital            62\n",
       "love               61\n",
       "orlando            60\n",
       "need               60\n",
       "work               59\n",
       "thanks             59\n",
       "dtype: int64"
      ]
     },
     "execution_count": 57,
     "metadata": {},
     "output_type": "execute_result"
    }
   ],
   "source": [
    "totalCT = commentCV_dtm.sum()\n",
    "commentCV_dtm[totalCT.sort_values(ascending = False).index[:30]].sum()"
   ]
  },
  {
   "cell_type": "markdown",
   "id": "EVWf7da2Y8Xd",
   "metadata": {
    "id": "EVWf7da2Y8Xd"
   },
   "source": [
    "Overall, the most frequently used 30 words review positive sentiment of the tweets."
   ]
  },
  {
   "cell_type": "markdown",
   "id": "bae7b626",
   "metadata": {
    "id": "bae7b626"
   },
   "source": [
    "## Topic Modeling"
   ]
  },
  {
   "cell_type": "markdown",
   "id": "65ecdbd4",
   "metadata": {
    "id": "65ecdbd4"
   },
   "source": [
    "One popular text analysis technique is called topic modeling. The ultimate goal of topic modeling is to find various topics that are present in your corpus. Each document in the corpus will be made up of at least one topic, if not multiple topics. Particularly, I will use one of the most frequently used TM methods, Latent Dirichlet Allocation (LDA).\n",
    "\n",
    "To use a topic modeling technique, we need to provide (1) a document-term matrix and (2) the number of topics we would like the algorithm to pick up."
   ]
  },
  {
   "cell_type": "code",
   "execution_count": 58,
   "id": "26ac1b81",
   "metadata": {
    "id": "26ac1b81"
   },
   "outputs": [],
   "source": [
    "from gensim import matutils, models\n",
    "import scipy.sparse"
   ]
  },
  {
   "cell_type": "markdown",
   "id": "c32432cd",
   "metadata": {
    "id": "c32432cd"
   },
   "source": [
    "Then we need to transpose the document term matrix to term-document matrix and use sparse.csr_matrix() to compress a matrix that is in rows and prepare the data in genism format and obtain a dictionary id2word of the locations of each term in the tdm."
   ]
  },
  {
   "cell_type": "code",
   "execution_count": 59,
   "id": "83348995",
   "metadata": {
    "id": "83348995"
   },
   "outputs": [],
   "source": [
    "# transpose the document term matrix to term-document matrix \n",
    "tdm = commentCV_dtm.transpose()\n",
    "\n",
    "# use sparse.csr_matrix() to compress a matrix that is in rows \n",
    "sparse_counts = scipy.sparse.csr_matrix(tdm)\n",
    "\n",
    "# prepare the data in genism format \n",
    "corpus = matutils.Sparse2Corpus(sparse_counts)\n",
    "\n",
    "# obtain a dictionary id2word of the locations of each term in the tdm.\n",
    "id2word = dict((v, p) for p, v in cv.vocabulary_.items())"
   ]
  },
  {
   "cell_type": "markdown",
   "id": "52c42906",
   "metadata": {
    "id": "52c42906"
   },
   "source": [
    "Then pass everything to we need to LdaModel() and specify a few other parameters (e.g., the number of topics and the number of passes).\n",
    "\n",
    "passes is the number of laps the model will take through corpus. The greater the number of passes, the more accurate the model will be. A lot of passes can be slow on a very large corpus."
   ]
  },
  {
   "cell_type": "code",
   "execution_count": 60,
   "id": "8a7573e9",
   "metadata": {
    "colab": {
     "base_uri": "https://localhost:8080/"
    },
    "id": "8a7573e9",
    "outputId": "8a75a9b8-253d-4b72-845b-1e6c246f0bb9"
   },
   "outputs": [
    {
     "data": {
      "text/plain": [
       "[(0,\n",
       "  '0.058*\"olcaccelerate\" + 0.013*\"olctoday\" + 0.011*\"booth\" + 0.008*\"session\" + 0.006*\"online\" + 0.006*\"fomofest\" + 0.006*\"learning\" + 0.006*\"come\" + 0.005*\"hall\" + 0.005*\"rt\"'),\n",
       " (1,\n",
       "  '0.074*\"olcaccelerate\" + 0.012*\"learning\" + 0.010*\"online\" + 0.007*\"keynote\" + 0.006*\"students\" + 0.006*\"fomofest\" + 0.006*\"avantgame\" + 0.006*\"olc\" + 0.005*\"olctoday\" + 0.005*\"learn\"'),\n",
       " (2,\n",
       "  '0.070*\"olcaccelerate\" + 0.010*\"join\" + 0.010*\"learning\" + 0.007*\"fomofest\" + 0.007*\"conference\" + 0.007*\"rt\" + 0.006*\"online\" + 0.006*\"olclive\" + 0.006*\"today\" + 0.005*\"great\"')]"
      ]
     },
     "execution_count": 60,
     "metadata": {},
     "output_type": "execute_result"
    }
   ],
   "source": [
    "lda = models.LdaModel(corpus=corpus, id2word=id2word, num_topics=3, passes=30)\n",
    "lda.print_topics()"
   ]
  },
  {
   "cell_type": "markdown",
   "id": "fXCLqjSaWk5Y",
   "metadata": {
    "id": "fXCLqjSaWk5Y"
   },
   "source": [
    "The topic modeling makes sense to me. The Online Learning Consortium Conference tweets is centered with the words including olcaccekerate (its official hashtag #OLCAccelerate), online, learning, students, session, etc. The words are all related to the online learning contexts, and it makes sense that they appear more frequently than others. Also, the words great and good can indicate that there was positive feedback for the conference."
   ]
  },
  {
   "cell_type": "markdown",
   "id": "AoV2O1-kJ92w",
   "metadata": {
    "id": "AoV2O1-kJ92w"
   },
   "source": [
    "## **Topic Modeling (Removing 'olcaccelerate', 'olctoday', & 'olc')**"
   ]
  },
  {
   "cell_type": "markdown",
   "id": "kM4vYq0WIcCo",
   "metadata": {
    "id": "kM4vYq0WIcCo"
   },
   "source": [
    "Trying to remove the words \"olcaccelerate\", \"olctoday\", and \"olc to check the influence on the topic modeling result."
   ]
  },
  {
   "cell_type": "code",
   "execution_count": 61,
   "id": "UwpQ5aziFGZG",
   "metadata": {
    "colab": {
     "base_uri": "https://localhost:8080/",
     "height": 424
    },
    "id": "UwpQ5aziFGZG",
    "outputId": "ab03262c-1c57-48f2-d0b8-9778ae58f574"
   },
   "outputs": [
    {
     "data": {
      "text/html": [
       "\n",
       "  <div id=\"df-e77a23cd-6fda-43f8-9a69-f4e4b2472a21\">\n",
       "    <div class=\"colab-df-container\">\n",
       "      <div>\n",
       "<style scoped>\n",
       "    .dataframe tbody tr th:only-of-type {\n",
       "        vertical-align: middle;\n",
       "    }\n",
       "\n",
       "    .dataframe tbody tr th {\n",
       "        vertical-align: top;\n",
       "    }\n",
       "\n",
       "    .dataframe thead th {\n",
       "        text-align: right;\n",
       "    }\n",
       "</style>\n",
       "<table border=\"1\" class=\"dataframe\">\n",
       "  <thead>\n",
       "    <tr style=\"text-align: right;\">\n",
       "      <th></th>\n",
       "      <th>aa</th>\n",
       "      <th>able</th>\n",
       "      <th>absence</th>\n",
       "      <th>absolute</th>\n",
       "      <th>absolutely</th>\n",
       "      <th>absorbing</th>\n",
       "      <th>abt</th>\n",
       "      <th>abundance</th>\n",
       "      <th>abusing</th>\n",
       "      <th>academia</th>\n",
       "      <th>...</th>\n",
       "      <th>yuengling</th>\n",
       "      <th>zen</th>\n",
       "      <th>zero</th>\n",
       "      <th>zhadko</th>\n",
       "      <th>zing</th>\n",
       "      <th>zone</th>\n",
       "      <th>zoom</th>\n",
       "      <th>zoomus</th>\n",
       "      <th>zydney</th>\n",
       "      <th>zydneys</th>\n",
       "    </tr>\n",
       "  </thead>\n",
       "  <tbody>\n",
       "    <tr>\n",
       "      <th>0</th>\n",
       "      <td>0</td>\n",
       "      <td>0</td>\n",
       "      <td>0</td>\n",
       "      <td>0</td>\n",
       "      <td>0</td>\n",
       "      <td>0</td>\n",
       "      <td>0</td>\n",
       "      <td>0</td>\n",
       "      <td>0</td>\n",
       "      <td>0</td>\n",
       "      <td>...</td>\n",
       "      <td>0</td>\n",
       "      <td>0</td>\n",
       "      <td>0</td>\n",
       "      <td>0</td>\n",
       "      <td>0</td>\n",
       "      <td>0</td>\n",
       "      <td>0</td>\n",
       "      <td>0</td>\n",
       "      <td>0</td>\n",
       "      <td>0</td>\n",
       "    </tr>\n",
       "    <tr>\n",
       "      <th>1</th>\n",
       "      <td>0</td>\n",
       "      <td>0</td>\n",
       "      <td>0</td>\n",
       "      <td>0</td>\n",
       "      <td>0</td>\n",
       "      <td>0</td>\n",
       "      <td>0</td>\n",
       "      <td>0</td>\n",
       "      <td>0</td>\n",
       "      <td>0</td>\n",
       "      <td>...</td>\n",
       "      <td>0</td>\n",
       "      <td>0</td>\n",
       "      <td>0</td>\n",
       "      <td>0</td>\n",
       "      <td>0</td>\n",
       "      <td>0</td>\n",
       "      <td>0</td>\n",
       "      <td>0</td>\n",
       "      <td>0</td>\n",
       "      <td>0</td>\n",
       "    </tr>\n",
       "    <tr>\n",
       "      <th>2</th>\n",
       "      <td>0</td>\n",
       "      <td>0</td>\n",
       "      <td>0</td>\n",
       "      <td>0</td>\n",
       "      <td>0</td>\n",
       "      <td>0</td>\n",
       "      <td>0</td>\n",
       "      <td>0</td>\n",
       "      <td>0</td>\n",
       "      <td>0</td>\n",
       "      <td>...</td>\n",
       "      <td>0</td>\n",
       "      <td>0</td>\n",
       "      <td>0</td>\n",
       "      <td>0</td>\n",
       "      <td>0</td>\n",
       "      <td>0</td>\n",
       "      <td>0</td>\n",
       "      <td>0</td>\n",
       "      <td>0</td>\n",
       "      <td>0</td>\n",
       "    </tr>\n",
       "    <tr>\n",
       "      <th>3</th>\n",
       "      <td>0</td>\n",
       "      <td>0</td>\n",
       "      <td>0</td>\n",
       "      <td>0</td>\n",
       "      <td>0</td>\n",
       "      <td>0</td>\n",
       "      <td>0</td>\n",
       "      <td>0</td>\n",
       "      <td>0</td>\n",
       "      <td>0</td>\n",
       "      <td>...</td>\n",
       "      <td>0</td>\n",
       "      <td>0</td>\n",
       "      <td>0</td>\n",
       "      <td>0</td>\n",
       "      <td>0</td>\n",
       "      <td>0</td>\n",
       "      <td>0</td>\n",
       "      <td>0</td>\n",
       "      <td>0</td>\n",
       "      <td>0</td>\n",
       "    </tr>\n",
       "    <tr>\n",
       "      <th>4</th>\n",
       "      <td>0</td>\n",
       "      <td>0</td>\n",
       "      <td>0</td>\n",
       "      <td>0</td>\n",
       "      <td>0</td>\n",
       "      <td>0</td>\n",
       "      <td>0</td>\n",
       "      <td>0</td>\n",
       "      <td>0</td>\n",
       "      <td>0</td>\n",
       "      <td>...</td>\n",
       "      <td>0</td>\n",
       "      <td>0</td>\n",
       "      <td>0</td>\n",
       "      <td>0</td>\n",
       "      <td>0</td>\n",
       "      <td>0</td>\n",
       "      <td>0</td>\n",
       "      <td>0</td>\n",
       "      <td>0</td>\n",
       "      <td>0</td>\n",
       "    </tr>\n",
       "    <tr>\n",
       "      <th>...</th>\n",
       "      <td>...</td>\n",
       "      <td>...</td>\n",
       "      <td>...</td>\n",
       "      <td>...</td>\n",
       "      <td>...</td>\n",
       "      <td>...</td>\n",
       "      <td>...</td>\n",
       "      <td>...</td>\n",
       "      <td>...</td>\n",
       "      <td>...</td>\n",
       "      <td>...</td>\n",
       "      <td>...</td>\n",
       "      <td>...</td>\n",
       "      <td>...</td>\n",
       "      <td>...</td>\n",
       "      <td>...</td>\n",
       "      <td>...</td>\n",
       "      <td>...</td>\n",
       "      <td>...</td>\n",
       "      <td>...</td>\n",
       "      <td>...</td>\n",
       "    </tr>\n",
       "    <tr>\n",
       "      <th>1745</th>\n",
       "      <td>0</td>\n",
       "      <td>0</td>\n",
       "      <td>0</td>\n",
       "      <td>0</td>\n",
       "      <td>0</td>\n",
       "      <td>0</td>\n",
       "      <td>0</td>\n",
       "      <td>0</td>\n",
       "      <td>0</td>\n",
       "      <td>0</td>\n",
       "      <td>...</td>\n",
       "      <td>0</td>\n",
       "      <td>0</td>\n",
       "      <td>0</td>\n",
       "      <td>0</td>\n",
       "      <td>0</td>\n",
       "      <td>0</td>\n",
       "      <td>0</td>\n",
       "      <td>0</td>\n",
       "      <td>0</td>\n",
       "      <td>0</td>\n",
       "    </tr>\n",
       "    <tr>\n",
       "      <th>1746</th>\n",
       "      <td>0</td>\n",
       "      <td>0</td>\n",
       "      <td>0</td>\n",
       "      <td>0</td>\n",
       "      <td>0</td>\n",
       "      <td>0</td>\n",
       "      <td>0</td>\n",
       "      <td>0</td>\n",
       "      <td>0</td>\n",
       "      <td>0</td>\n",
       "      <td>...</td>\n",
       "      <td>0</td>\n",
       "      <td>0</td>\n",
       "      <td>0</td>\n",
       "      <td>0</td>\n",
       "      <td>0</td>\n",
       "      <td>0</td>\n",
       "      <td>0</td>\n",
       "      <td>0</td>\n",
       "      <td>0</td>\n",
       "      <td>0</td>\n",
       "    </tr>\n",
       "    <tr>\n",
       "      <th>1747</th>\n",
       "      <td>0</td>\n",
       "      <td>0</td>\n",
       "      <td>0</td>\n",
       "      <td>0</td>\n",
       "      <td>0</td>\n",
       "      <td>0</td>\n",
       "      <td>0</td>\n",
       "      <td>0</td>\n",
       "      <td>0</td>\n",
       "      <td>0</td>\n",
       "      <td>...</td>\n",
       "      <td>0</td>\n",
       "      <td>0</td>\n",
       "      <td>0</td>\n",
       "      <td>0</td>\n",
       "      <td>0</td>\n",
       "      <td>0</td>\n",
       "      <td>0</td>\n",
       "      <td>0</td>\n",
       "      <td>0</td>\n",
       "      <td>0</td>\n",
       "    </tr>\n",
       "    <tr>\n",
       "      <th>1748</th>\n",
       "      <td>0</td>\n",
       "      <td>0</td>\n",
       "      <td>0</td>\n",
       "      <td>0</td>\n",
       "      <td>0</td>\n",
       "      <td>0</td>\n",
       "      <td>0</td>\n",
       "      <td>0</td>\n",
       "      <td>0</td>\n",
       "      <td>0</td>\n",
       "      <td>...</td>\n",
       "      <td>0</td>\n",
       "      <td>0</td>\n",
       "      <td>0</td>\n",
       "      <td>0</td>\n",
       "      <td>0</td>\n",
       "      <td>0</td>\n",
       "      <td>0</td>\n",
       "      <td>0</td>\n",
       "      <td>0</td>\n",
       "      <td>0</td>\n",
       "    </tr>\n",
       "    <tr>\n",
       "      <th>1749</th>\n",
       "      <td>0</td>\n",
       "      <td>0</td>\n",
       "      <td>0</td>\n",
       "      <td>0</td>\n",
       "      <td>0</td>\n",
       "      <td>0</td>\n",
       "      <td>0</td>\n",
       "      <td>0</td>\n",
       "      <td>0</td>\n",
       "      <td>0</td>\n",
       "      <td>...</td>\n",
       "      <td>0</td>\n",
       "      <td>0</td>\n",
       "      <td>0</td>\n",
       "      <td>0</td>\n",
       "      <td>0</td>\n",
       "      <td>0</td>\n",
       "      <td>0</td>\n",
       "      <td>0</td>\n",
       "      <td>0</td>\n",
       "      <td>0</td>\n",
       "    </tr>\n",
       "  </tbody>\n",
       "</table>\n",
       "<p>1722 rows × 5016 columns</p>\n",
       "</div>\n",
       "      <button class=\"colab-df-convert\" onclick=\"convertToInteractive('df-e77a23cd-6fda-43f8-9a69-f4e4b2472a21')\"\n",
       "              title=\"Convert this dataframe to an interactive table.\"\n",
       "              style=\"display:none;\">\n",
       "        \n",
       "  <svg xmlns=\"http://www.w3.org/2000/svg\" height=\"24px\"viewBox=\"0 0 24 24\"\n",
       "       width=\"24px\">\n",
       "    <path d=\"M0 0h24v24H0V0z\" fill=\"none\"/>\n",
       "    <path d=\"M18.56 5.44l.94 2.06.94-2.06 2.06-.94-2.06-.94-.94-2.06-.94 2.06-2.06.94zm-11 1L8.5 8.5l.94-2.06 2.06-.94-2.06-.94L8.5 2.5l-.94 2.06-2.06.94zm10 10l.94 2.06.94-2.06 2.06-.94-2.06-.94-.94-2.06-.94 2.06-2.06.94z\"/><path d=\"M17.41 7.96l-1.37-1.37c-.4-.4-.92-.59-1.43-.59-.52 0-1.04.2-1.43.59L10.3 9.45l-7.72 7.72c-.78.78-.78 2.05 0 2.83L4 21.41c.39.39.9.59 1.41.59.51 0 1.02-.2 1.41-.59l7.78-7.78 2.81-2.81c.8-.78.8-2.07 0-2.86zM5.41 20L4 18.59l7.72-7.72 1.47 1.35L5.41 20z\"/>\n",
       "  </svg>\n",
       "      </button>\n",
       "      \n",
       "  <style>\n",
       "    .colab-df-container {\n",
       "      display:flex;\n",
       "      flex-wrap:wrap;\n",
       "      gap: 12px;\n",
       "    }\n",
       "\n",
       "    .colab-df-convert {\n",
       "      background-color: #E8F0FE;\n",
       "      border: none;\n",
       "      border-radius: 50%;\n",
       "      cursor: pointer;\n",
       "      display: none;\n",
       "      fill: #1967D2;\n",
       "      height: 32px;\n",
       "      padding: 0 0 0 0;\n",
       "      width: 32px;\n",
       "    }\n",
       "\n",
       "    .colab-df-convert:hover {\n",
       "      background-color: #E2EBFA;\n",
       "      box-shadow: 0px 1px 2px rgba(60, 64, 67, 0.3), 0px 1px 3px 1px rgba(60, 64, 67, 0.15);\n",
       "      fill: #174EA6;\n",
       "    }\n",
       "\n",
       "    [theme=dark] .colab-df-convert {\n",
       "      background-color: #3B4455;\n",
       "      fill: #D2E3FC;\n",
       "    }\n",
       "\n",
       "    [theme=dark] .colab-df-convert:hover {\n",
       "      background-color: #434B5C;\n",
       "      box-shadow: 0px 1px 3px 1px rgba(0, 0, 0, 0.15);\n",
       "      filter: drop-shadow(0px 1px 2px rgba(0, 0, 0, 0.3));\n",
       "      fill: #FFFFFF;\n",
       "    }\n",
       "  </style>\n",
       "\n",
       "      <script>\n",
       "        const buttonEl =\n",
       "          document.querySelector('#df-e77a23cd-6fda-43f8-9a69-f4e4b2472a21 button.colab-df-convert');\n",
       "        buttonEl.style.display =\n",
       "          google.colab.kernel.accessAllowed ? 'block' : 'none';\n",
       "\n",
       "        async function convertToInteractive(key) {\n",
       "          const element = document.querySelector('#df-e77a23cd-6fda-43f8-9a69-f4e4b2472a21');\n",
       "          const dataTable =\n",
       "            await google.colab.kernel.invokeFunction('convertToInteractive',\n",
       "                                                     [key], {});\n",
       "          if (!dataTable) return;\n",
       "\n",
       "          const docLinkHtml = 'Like what you see? Visit the ' +\n",
       "            '<a target=\"_blank\" href=https://colab.research.google.com/notebooks/data_table.ipynb>data table notebook</a>'\n",
       "            + ' to learn more about interactive tables.';\n",
       "          element.innerHTML = '';\n",
       "          dataTable['output_type'] = 'display_data';\n",
       "          await google.colab.output.renderOutput(dataTable, element);\n",
       "          const docLink = document.createElement('div');\n",
       "          docLink.innerHTML = docLinkHtml;\n",
       "          element.appendChild(docLink);\n",
       "        }\n",
       "      </script>\n",
       "    </div>\n",
       "  </div>\n",
       "  "
      ],
      "text/plain": [
       "      aa  able  absence  absolute  absolutely  absorbing  abt  abundance  \\\n",
       "0      0     0        0         0           0          0    0          0   \n",
       "1      0     0        0         0           0          0    0          0   \n",
       "2      0     0        0         0           0          0    0          0   \n",
       "3      0     0        0         0           0          0    0          0   \n",
       "4      0     0        0         0           0          0    0          0   \n",
       "...   ..   ...      ...       ...         ...        ...  ...        ...   \n",
       "1745   0     0        0         0           0          0    0          0   \n",
       "1746   0     0        0         0           0          0    0          0   \n",
       "1747   0     0        0         0           0          0    0          0   \n",
       "1748   0     0        0         0           0          0    0          0   \n",
       "1749   0     0        0         0           0          0    0          0   \n",
       "\n",
       "      abusing  academia  ...  yuengling  zen  zero  zhadko  zing  zone  zoom  \\\n",
       "0           0         0  ...          0    0     0       0     0     0     0   \n",
       "1           0         0  ...          0    0     0       0     0     0     0   \n",
       "2           0         0  ...          0    0     0       0     0     0     0   \n",
       "3           0         0  ...          0    0     0       0     0     0     0   \n",
       "4           0         0  ...          0    0     0       0     0     0     0   \n",
       "...       ...       ...  ...        ...  ...   ...     ...   ...   ...   ...   \n",
       "1745        0         0  ...          0    0     0       0     0     0     0   \n",
       "1746        0         0  ...          0    0     0       0     0     0     0   \n",
       "1747        0         0  ...          0    0     0       0     0     0     0   \n",
       "1748        0         0  ...          0    0     0       0     0     0     0   \n",
       "1749        0         0  ...          0    0     0       0     0     0     0   \n",
       "\n",
       "      zoomus  zydney  zydneys  \n",
       "0          0       0        0  \n",
       "1          0       0        0  \n",
       "2          0       0        0  \n",
       "3          0       0        0  \n",
       "4          0       0        0  \n",
       "...      ...     ...      ...  \n",
       "1745       0       0        0  \n",
       "1746       0       0        0  \n",
       "1747       0       0        0  \n",
       "1748       0       0        0  \n",
       "1749       0       0        0  \n",
       "\n",
       "[1722 rows x 5016 columns]"
      ]
     },
     "execution_count": 61,
     "metadata": {},
     "output_type": "execute_result"
    }
   ],
   "source": [
    "commentCV_dtmD = commentCV_dtm.drop(columns=['olcaccelerate', 'olctoday', 'olc'])\n",
    "commentCV_dtmD"
   ]
  },
  {
   "cell_type": "markdown",
   "id": "R0szXg_yJM0C",
   "metadata": {
    "id": "R0szXg_yJM0C"
   },
   "source": [
    "Then, follow the same procedure to see how does the removal of 'olcaccelerate', 'olctoday', 'olc' affect the overall distribution."
   ]
  },
  {
   "cell_type": "code",
   "execution_count": 62,
   "id": "fv3AoXNqH9fV",
   "metadata": {
    "id": "fv3AoXNqH9fV"
   },
   "outputs": [],
   "source": [
    "# transpose the document term matrix to term-document matrix \n",
    "tdm2 = commentCV_dtmD.transpose()\n",
    "\n",
    "# use sparse.csr_matrix() to compress a matrix that is in rows \n",
    "sparse_counts2 = scipy.sparse.csr_matrix(tdm2)\n",
    "\n",
    "# prepare the data in genism format \n",
    "corpus2 = matutils.Sparse2Corpus(sparse_counts2)\n",
    "\n",
    "# obtain a dictionary id2word of the locations of each term in the tdm.\n",
    "id2word = dict((v, p) for p, v in cv.vocabulary_.items())"
   ]
  },
  {
   "cell_type": "code",
   "execution_count": 63,
   "id": "Wlm9CUnrH9pO",
   "metadata": {
    "colab": {
     "base_uri": "https://localhost:8080/"
    },
    "id": "Wlm9CUnrH9pO",
    "outputId": "ebd85110-8d32-4c39-cb85-928e2075f019"
   },
   "outputs": [
    {
     "data": {
      "text/plain": [
       "[(0,\n",
       "  '0.020*\"learning\" + 0.010*\"ones\" + 0.009*\"fomofest\" + 0.008*\"serve\" + 0.007*\"great\" + 0.006*\"join\" + 0.005*\"looking\" + 0.005*\"studentengagement\" + 0.005*\"digital\" + 0.004*\"wednesday\"'),\n",
       " (1,\n",
       "  '0.009*\"ones\" + 0.008*\"studentengagement\" + 0.007*\"route\" + 0.007*\"booth\" + 0.006*\"fomofest\" + 0.006*\"keynote\" + 0.006*\"serve\" + 0.006*\"learning\" + 0.005*\"tjoosten\" + 0.005*\"just\"'),\n",
       " (2,\n",
       "  '0.009*\"conference\" + 0.006*\"ones\" + 0.006*\"join\" + 0.006*\"great\" + 0.005*\"thad\" + 0.005*\"new\" + 0.005*\"booth\" + 0.005*\"fomofest\" + 0.005*\"angelagunder\" + 0.004*\"route\"')]"
      ]
     },
     "execution_count": 63,
     "metadata": {},
     "output_type": "execute_result"
    }
   ],
   "source": [
    "lda2 = models.LdaModel(corpus=corpus2, id2word=id2word, num_topics=3, passes=30)\n",
    "lda2.print_topics()"
   ]
  },
  {
   "cell_type": "markdown",
   "id": "PBj6HRqyKaVw",
   "metadata": {
    "id": "PBj6HRqyKaVw"
   },
   "source": [
    "After removing the words 'olcaccelerate', 'olctoday', 'olc', we can see that words like 'learning', 'serve', 'studentengagement' is taking up a greater proportion. The topic modeling again reveals positive feedback for the conference."
   ]
  },
  {
   "cell_type": "markdown",
   "id": "caa2b285",
   "metadata": {
    "id": "caa2b285"
   },
   "source": [
    "# Classification: Predicting Replies"
   ]
  },
  {
   "cell_type": "code",
   "execution_count": 137,
   "id": "e8177cd5",
   "metadata": {
    "colab": {
     "base_uri": "https://localhost:8080/",
     "height": 206
    },
    "id": "e8177cd5",
    "outputId": "3e5a1446-bf67-41bf-8acc-3744d4a6bdd5"
   },
   "outputs": [
    {
     "data": {
      "text/html": [
       "\n",
       "  <div id=\"df-81344daa-d4a5-4a0b-9944-e4e70ea251eb\">\n",
       "    <div class=\"colab-df-container\">\n",
       "      <div>\n",
       "<style scoped>\n",
       "    .dataframe tbody tr th:only-of-type {\n",
       "        vertical-align: middle;\n",
       "    }\n",
       "\n",
       "    .dataframe tbody tr th {\n",
       "        vertical-align: top;\n",
       "    }\n",
       "\n",
       "    .dataframe thead th {\n",
       "        text-align: right;\n",
       "    }\n",
       "</style>\n",
       "<table border=\"1\" class=\"dataframe\">\n",
       "  <thead>\n",
       "    <tr style=\"text-align: right;\">\n",
       "      <th></th>\n",
       "      <th>document</th>\n",
       "      <th>tweeter</th>\n",
       "      <th>tweetTextOriginal</th>\n",
       "      <th>Followers</th>\n",
       "      <th>Follows</th>\n",
       "      <th>Activity</th>\n",
       "      <th>Replies</th>\n",
       "    </tr>\n",
       "  </thead>\n",
       "  <tbody>\n",
       "    <tr>\n",
       "      <th>0</th>\n",
       "      <td>1</td>\n",
       "      <td>dr_menn</td>\n",
       "      <td>you know you’ve been immersed in olctoday’s ol...</td>\n",
       "      <td>272.0</td>\n",
       "      <td>497.0</td>\n",
       "      <td>PS</td>\n",
       "      <td>0</td>\n",
       "    </tr>\n",
       "    <tr>\n",
       "      <th>1</th>\n",
       "      <td>2</td>\n",
       "      <td>mhhighered</td>\n",
       "      <td>icymi asu  ucf were awarded the digital inno...</td>\n",
       "      <td>17432.0</td>\n",
       "      <td>5749.0</td>\n",
       "      <td>CI</td>\n",
       "      <td>0</td>\n",
       "    </tr>\n",
       "    <tr>\n",
       "      <th>2</th>\n",
       "      <td>3</td>\n",
       "      <td>edtechdev</td>\n",
       "      <td>added the peralta equity rubric  to this list ...</td>\n",
       "      <td>3779.0</td>\n",
       "      <td>3716.0</td>\n",
       "      <td>NKA</td>\n",
       "      <td>0</td>\n",
       "    </tr>\n",
       "    <tr>\n",
       "      <th>3</th>\n",
       "      <td>4</td>\n",
       "      <td>kthompso</td>\n",
       "      <td>i appreciate the reflective gratitude and the ...</td>\n",
       "      <td>2440.0</td>\n",
       "      <td>1232.0</td>\n",
       "      <td>PN</td>\n",
       "      <td>0</td>\n",
       "    </tr>\n",
       "    <tr>\n",
       "      <th>4</th>\n",
       "      <td>5</td>\n",
       "      <td>angelagunder</td>\n",
       "      <td>hey olcaccelerate fomofest  i was so busy this...</td>\n",
       "      <td>684.0</td>\n",
       "      <td>698.0</td>\n",
       "      <td>PS</td>\n",
       "      <td>1</td>\n",
       "    </tr>\n",
       "  </tbody>\n",
       "</table>\n",
       "</div>\n",
       "      <button class=\"colab-df-convert\" onclick=\"convertToInteractive('df-81344daa-d4a5-4a0b-9944-e4e70ea251eb')\"\n",
       "              title=\"Convert this dataframe to an interactive table.\"\n",
       "              style=\"display:none;\">\n",
       "        \n",
       "  <svg xmlns=\"http://www.w3.org/2000/svg\" height=\"24px\"viewBox=\"0 0 24 24\"\n",
       "       width=\"24px\">\n",
       "    <path d=\"M0 0h24v24H0V0z\" fill=\"none\"/>\n",
       "    <path d=\"M18.56 5.44l.94 2.06.94-2.06 2.06-.94-2.06-.94-.94-2.06-.94 2.06-2.06.94zm-11 1L8.5 8.5l.94-2.06 2.06-.94-2.06-.94L8.5 2.5l-.94 2.06-2.06.94zm10 10l.94 2.06.94-2.06 2.06-.94-2.06-.94-.94-2.06-.94 2.06-2.06.94z\"/><path d=\"M17.41 7.96l-1.37-1.37c-.4-.4-.92-.59-1.43-.59-.52 0-1.04.2-1.43.59L10.3 9.45l-7.72 7.72c-.78.78-.78 2.05 0 2.83L4 21.41c.39.39.9.59 1.41.59.51 0 1.02-.2 1.41-.59l7.78-7.78 2.81-2.81c.8-.78.8-2.07 0-2.86zM5.41 20L4 18.59l7.72-7.72 1.47 1.35L5.41 20z\"/>\n",
       "  </svg>\n",
       "      </button>\n",
       "      \n",
       "  <style>\n",
       "    .colab-df-container {\n",
       "      display:flex;\n",
       "      flex-wrap:wrap;\n",
       "      gap: 12px;\n",
       "    }\n",
       "\n",
       "    .colab-df-convert {\n",
       "      background-color: #E8F0FE;\n",
       "      border: none;\n",
       "      border-radius: 50%;\n",
       "      cursor: pointer;\n",
       "      display: none;\n",
       "      fill: #1967D2;\n",
       "      height: 32px;\n",
       "      padding: 0 0 0 0;\n",
       "      width: 32px;\n",
       "    }\n",
       "\n",
       "    .colab-df-convert:hover {\n",
       "      background-color: #E2EBFA;\n",
       "      box-shadow: 0px 1px 2px rgba(60, 64, 67, 0.3), 0px 1px 3px 1px rgba(60, 64, 67, 0.15);\n",
       "      fill: #174EA6;\n",
       "    }\n",
       "\n",
       "    [theme=dark] .colab-df-convert {\n",
       "      background-color: #3B4455;\n",
       "      fill: #D2E3FC;\n",
       "    }\n",
       "\n",
       "    [theme=dark] .colab-df-convert:hover {\n",
       "      background-color: #434B5C;\n",
       "      box-shadow: 0px 1px 3px 1px rgba(0, 0, 0, 0.15);\n",
       "      filter: drop-shadow(0px 1px 2px rgba(0, 0, 0, 0.3));\n",
       "      fill: #FFFFFF;\n",
       "    }\n",
       "  </style>\n",
       "\n",
       "      <script>\n",
       "        const buttonEl =\n",
       "          document.querySelector('#df-81344daa-d4a5-4a0b-9944-e4e70ea251eb button.colab-df-convert');\n",
       "        buttonEl.style.display =\n",
       "          google.colab.kernel.accessAllowed ? 'block' : 'none';\n",
       "\n",
       "        async function convertToInteractive(key) {\n",
       "          const element = document.querySelector('#df-81344daa-d4a5-4a0b-9944-e4e70ea251eb');\n",
       "          const dataTable =\n",
       "            await google.colab.kernel.invokeFunction('convertToInteractive',\n",
       "                                                     [key], {});\n",
       "          if (!dataTable) return;\n",
       "\n",
       "          const docLinkHtml = 'Like what you see? Visit the ' +\n",
       "            '<a target=\"_blank\" href=https://colab.research.google.com/notebooks/data_table.ipynb>data table notebook</a>'\n",
       "            + ' to learn more about interactive tables.';\n",
       "          element.innerHTML = '';\n",
       "          dataTable['output_type'] = 'display_data';\n",
       "          await google.colab.output.renderOutput(dataTable, element);\n",
       "          const docLink = document.createElement('div');\n",
       "          docLink.innerHTML = docLinkHtml;\n",
       "          element.appendChild(docLink);\n",
       "        }\n",
       "      </script>\n",
       "    </div>\n",
       "  </div>\n",
       "  "
      ],
      "text/plain": [
       "   document       tweeter                                  tweetTextOriginal  \\\n",
       "0         1       dr_menn  you know you’ve been immersed in olctoday’s ol...   \n",
       "1         2    mhhighered    icymi asu  ucf were awarded the digital inno...   \n",
       "2         3     edtechdev  added the peralta equity rubric  to this list ...   \n",
       "3         4      kthompso  i appreciate the reflective gratitude and the ...   \n",
       "4         5  angelagunder  hey olcaccelerate fomofest  i was so busy this...   \n",
       "\n",
       "   Followers  Follows Activity  Replies  \n",
       "0      272.0    497.0       PS        0  \n",
       "1    17432.0   5749.0       CI        0  \n",
       "2     3779.0   3716.0      NKA        0  \n",
       "3     2440.0   1232.0       PN        0  \n",
       "4      684.0    698.0       PS        1  "
      ]
     },
     "execution_count": 137,
     "metadata": {},
     "output_type": "execute_result"
    }
   ],
   "source": [
    "# create a shallow copy of dataClean\n",
    "dataN = dataClean.copy()\n",
    "\n",
    "# map the variable 'Replies exist? (Y or N)' so that it is represented as 0 & 1\n",
    "n = {'Y': 1, 'N': 0}\n",
    "dataN['Replies'] = dataClean['Replies exist? (Y or N)'].map(n)\n",
    "dataN = dataN.drop(['Replies exist? (Y or N)'], axis=1)\n",
    "dataN.head()"
   ]
  },
  {
   "cell_type": "markdown",
   "id": "8Ae_IE260h6N",
   "metadata": {
    "id": "8Ae_IE260h6N"
   },
   "source": [
    "## **K-Fold**"
   ]
  },
  {
   "cell_type": "code",
   "execution_count": 66,
   "id": "saT3KnHLwsWC",
   "metadata": {
    "colab": {
     "base_uri": "https://localhost:8080/"
    },
    "id": "saT3KnHLwsWC",
    "outputId": "437aeb2c-0219-4635-86d6-6d5c13f0b81c"
   },
   "outputs": [
    {
     "name": "stdout",
     "output_type": "stream",
     "text": [
      "[0.67052023 0.71676301 0.74418605 0.79651163 0.70930233 0.74418605\n",
      " 0.75581395 0.75581395 0.74418605 0.76162791]\n"
     ]
    }
   ],
   "source": [
    "from sklearn.model_selection import KFold\n",
    "from sklearn.model_selection import cross_val_score\n",
    "from sklearn.naive_bayes import MultinomialNB\n",
    "\n",
    "X = dataN['tweetTextOriginal']\n",
    "y = dataN['Replies']\n",
    "cv = CountVectorizer(stop_words='english')\n",
    "features = cv.fit_transform(X).toarray()\n",
    "kf = KFold(n_splits=10, random_state=1, shuffle=True)\n",
    "model = MultinomialNB()\n",
    "scores = cross_val_score(model, features, y, scoring='accuracy', cv=kf, n_jobs=-1)\n",
    "print(scores)"
   ]
  },
  {
   "cell_type": "markdown",
   "id": "6YKeSRqazseH",
   "metadata": {
    "id": "6YKeSRqazseH"
   },
   "source": [
    "The mean score and the standard deviation for **Multinomial NB** are given by:"
   ]
  },
  {
   "cell_type": "code",
   "execution_count": 67,
   "id": "4fessDFAzhvl",
   "metadata": {
    "colab": {
     "base_uri": "https://localhost:8080/"
    },
    "id": "4fessDFAzhvl",
    "outputId": "71c2846b-da25-43d6-fdfe-1db64c8c7451"
   },
   "outputs": [
    {
     "name": "stdout",
     "output_type": "stream",
     "text": [
      "0.74 accuracy with a standard deviation of 0.03\n"
     ]
    }
   ],
   "source": [
    "print(\"%0.2f accuracy with a standard deviation of %0.2f\" % (scores.mean(), scores.std()))"
   ]
  },
  {
   "cell_type": "code",
   "execution_count": 68,
   "id": "C67qOdjr0BZt",
   "metadata": {
    "colab": {
     "base_uri": "https://localhost:8080/"
    },
    "id": "C67qOdjr0BZt",
    "outputId": "547417d8-20bf-4438-b009-763e0de66955"
   },
   "outputs": [
    {
     "name": "stdout",
     "output_type": "stream",
     "text": [
      "[0.76878613 0.76300578 0.76744186 0.83139535 0.79651163 0.81395349\n",
      " 0.75581395 0.80232558 0.77906977 0.77906977]\n"
     ]
    }
   ],
   "source": [
    "from sklearn import svm\n",
    "\n",
    "model2 = svm.SVC()\n",
    "scores2 = cross_val_score(model2, features, y, scoring='accuracy', cv=kf, n_jobs=-1)\n",
    "print(scores2)"
   ]
  },
  {
   "cell_type": "markdown",
   "id": "ZYLOnNt500G6",
   "metadata": {
    "id": "ZYLOnNt500G6"
   },
   "source": [
    "The mean score and the standard deviation for **SVM** are given by:"
   ]
  },
  {
   "cell_type": "code",
   "execution_count": 69,
   "id": "GmaK5SLa0PFT",
   "metadata": {
    "colab": {
     "base_uri": "https://localhost:8080/"
    },
    "id": "GmaK5SLa0PFT",
    "outputId": "56376b69-e9f5-47a0-c121-2ac8f1eb74ef"
   },
   "outputs": [
    {
     "name": "stdout",
     "output_type": "stream",
     "text": [
      "0.79 accuracy with a standard deviation of 0.02\n"
     ]
    }
   ],
   "source": [
    "print(\"%0.2f accuracy with a standard deviation of %0.2f\" % (scores2.mean(), scores2.std()))"
   ]
  },
  {
   "cell_type": "markdown",
   "id": "WxjrLvUX03f1",
   "metadata": {
    "id": "WxjrLvUX03f1"
   },
   "source": [
    "Therefore, **SVM** has a higher mean accuracy score of **79%** than **Multinomial NB** of **74%** with K-Fold."
   ]
  },
  {
   "cell_type": "markdown",
   "id": "Inwr9tfi0oN0",
   "metadata": {
    "id": "Inwr9tfi0oN0"
   },
   "source": [
    "## **Train_Test_Split**"
   ]
  },
  {
   "cell_type": "code",
   "execution_count": 138,
   "id": "b37c5bde",
   "metadata": {
    "id": "b37c5bde"
   },
   "outputs": [],
   "source": [
    "# split the dataset into two:\n",
    "from sklearn.model_selection import train_test_split\n",
    "\n",
    "X = dataN['tweetTextOriginal']\n",
    "Y = dataN['Replies']\n",
    "x_training, x_test, y_training, y_test = train_test_split(X, Y, test_size = 0.25)"
   ]
  },
  {
   "cell_type": "markdown",
   "id": "2b439045",
   "metadata": {
    "id": "2b439045"
   },
   "source": [
    "Then call the classifier models and feed in the training data and labels. First using the classic **Naive Bayes algorithm**. I used the multinomial Naive Bayes classifier as it is suitable for classification with discrete features (e.g., word counts for text classification)."
   ]
  },
  {
   "cell_type": "code",
   "execution_count": 139,
   "id": "b455c0f9",
   "metadata": {
    "colab": {
     "base_uri": "https://localhost:8080/"
    },
    "id": "b455c0f9",
    "outputId": "6d4d25e1-e876-4619-8143-01857f18be72"
   },
   "outputs": [
    {
     "name": "stdout",
     "output_type": "stream",
     "text": [
      "0.7911832946635731\n"
     ]
    }
   ],
   "source": [
    "from sklearn.naive_bayes import MultinomialNB\n",
    "\n",
    "# Prepare the training features\n",
    "cv = CountVectorizer(stop_words='english')\n",
    "features = cv.fit_transform(x_training).toarray()\n",
    "\n",
    "# Train a Naive Bayes Model\n",
    "model = MultinomialNB()\n",
    "model.fit(features, y_training)\n",
    "\n",
    "# Prepare the testing xs\n",
    "# using transform and fit_transform to standardize the data\n",
    "feature_test = cv.transform(x_test).toarray()\n",
    "\n",
    "# Print the model accuracy\n",
    "print(model.score(feature_test,y_test))"
   ]
  },
  {
   "cell_type": "markdown",
   "id": "GSk1lTNj7jUh",
   "metadata": {
    "id": "GSk1lTNj7jUh"
   },
   "source": [
    "**Confusion Matrix**"
   ]
  },
  {
   "cell_type": "code",
   "execution_count": 140,
   "id": "73ee151d",
   "metadata": {
    "colab": {
     "base_uri": "https://localhost:8080/"
    },
    "id": "73ee151d",
    "outputId": "0023b106-e909-4d6e-fcae-96af1a4aadda"
   },
   "outputs": [
    {
     "name": "stdout",
     "output_type": "stream",
     "text": [
      "[[330  12]\n",
      " [ 78  11]]\n"
     ]
    }
   ],
   "source": [
    "from sklearn.metrics import confusion_matrix\n",
    "\n",
    "# Compare the predicted Ys with what is actually in the testing dataset and obtain the confusion matrix\n",
    "y_pred = model.predict(feature_test)\n",
    "print(confusion_matrix(y_test,y_pred))"
   ]
  },
  {
   "cell_type": "markdown",
   "id": "33795073",
   "metadata": {
    "id": "33795073"
   },
   "source": [
    "79.1% accuracy is not bad. From the confusion matrix, we can see that more sample is predicted to be 0 (non-NKA) given the unbalanced dataset. To compare the result, take a look at **supported vector machine**."
   ]
  },
  {
   "cell_type": "code",
   "execution_count": 141,
   "id": "9570346d",
   "metadata": {
    "colab": {
     "base_uri": "https://localhost:8080/"
    },
    "id": "9570346d",
    "outputId": "a063e56c-a4d5-4512-ceb2-674c39c9d2be"
   },
   "outputs": [
    {
     "name": "stdout",
     "output_type": "stream",
     "text": [
      "0.7935034802784223\n"
     ]
    }
   ],
   "source": [
    "from sklearn import svm\n",
    "\n",
    "# Prepare the training features\n",
    "cv = CountVectorizer(stop_words='english')\n",
    "features = cv.fit_transform(x_training)\n",
    "\n",
    "# Train SVM classifier\n",
    "model = svm.SVC(probability=True)\n",
    "model.fit(features, y_training)\n",
    "\n",
    "# Prepare the testing xs\n",
    "feature_test = cv.transform(x_test)\n",
    "\n",
    "# Print the model accuracy\n",
    "print(model.score(feature_test,y_test))"
   ]
  },
  {
   "cell_type": "markdown",
   "id": "JTeoepCo7gv_",
   "metadata": {
    "id": "JTeoepCo7gv_"
   },
   "source": [
    "**Confusion Matrix**"
   ]
  },
  {
   "cell_type": "code",
   "execution_count": 142,
   "id": "7365addd",
   "metadata": {
    "colab": {
     "base_uri": "https://localhost:8080/"
    },
    "id": "7365addd",
    "outputId": "f5f0fc65-910c-4244-88a3-1bf76138013b"
   },
   "outputs": [
    {
     "name": "stdout",
     "output_type": "stream",
     "text": [
      "[[342   0]\n",
      " [ 89   0]]\n"
     ]
    }
   ],
   "source": [
    "y_pred = model.predict(feature_test)\n",
    "print(confusion_matrix(y_test, y_pred))"
   ]
  },
  {
   "cell_type": "markdown",
   "id": "jwDZrR7lZqQP",
   "metadata": {
    "id": "jwDZrR7lZqQP"
   },
   "source": [
    "SVM has a slightly better accuracy of 79.4% than the multinomial naive bayes model in predicting replies. However, from the confusion matrix, we can see that the model predicts all sample to be 0 (non-NKA)."
   ]
  },
  {
   "cell_type": "markdown",
   "id": "aVkvn0np7m-N",
   "metadata": {
    "id": "aVkvn0np7m-N"
   },
   "source": [
    "### **ROC Curve**"
   ]
  },
  {
   "cell_type": "code",
   "execution_count": 143,
   "id": "vOe6wIKt7qbs",
   "metadata": {
    "id": "vOe6wIKt7qbs"
   },
   "outputs": [],
   "source": [
    "from sklearn.metrics import roc_curve\n",
    "from sklearn.metrics import roc_auc_score\n",
    "from matplotlib import pyplot"
   ]
  },
  {
   "cell_type": "markdown",
   "id": "xLd72xPAAFWv",
   "metadata": {
    "id": "xLd72xPAAFWv"
   },
   "source": [
    "ROC Curve Plot for the **Multinomial Naive Bayes Classifier** and the **SVM Model**:"
   ]
  },
  {
   "cell_type": "code",
   "execution_count": 144,
   "id": "M46A1Idh_D47",
   "metadata": {
    "colab": {
     "base_uri": "https://localhost:8080/",
     "height": 279
    },
    "id": "M46A1Idh_D47",
    "outputId": "d797a1ec-bade-48a7-d19e-b2d23fe4ed50"
   },
   "outputs": [
    {
     "data": {
      "image/png": "[encoded data removed]",
      "text/plain": [
       "<Figure size 432x288 with 1 Axes>"
      ]
     },
     "metadata": {
      "needs_background": "light"
     },
     "output_type": "display_data"
    }
   ],
   "source": [
    "import matplotlib.pyplot as plt\n",
    "from sklearn import metrics\n",
    "\n",
    "#set up plotting area\n",
    "plt.figure(0).clf()\n",
    "\n",
    "#fit Multinomial NB model and plot ROC curve\n",
    "model = MultinomialNB()\n",
    "model.fit(features, y_training)\n",
    "y_pred = model.predict_proba(feature_test)[:, 1]\n",
    "fpr, tpr, _ = metrics.roc_curve(y_test, y_pred)\n",
    "auc = round(metrics.roc_auc_score(y_test, y_pred), 4)\n",
    "plt.plot(fpr,tpr,label=\"Multinomial Naive Bayes, AUC=\"+str(auc))\n",
    "\n",
    "#fit SVM model and plot ROC curve\n",
    "model = svm.SVC(probability=True)\n",
    "model.fit(features, y_training)\n",
    "y_pred = model.predict_proba(feature_test)[:, 1]\n",
    "fpr, tpr, _ = metrics.roc_curve(y_test, y_pred)\n",
    "auc = round(metrics.roc_auc_score(y_test, y_pred), 4)\n",
    "plt.plot(fpr,tpr,label=\"SVM, AUC=\"+str(auc))\n",
    "\n",
    "# axis labels\n",
    "pyplot.xlabel('False Positive Rate')\n",
    "pyplot.ylabel('True Positive Rate')\n",
    "\n",
    "#add legend\n",
    "plt.legend()\n",
    "plt.show()"
   ]
  },
  {
   "cell_type": "markdown",
   "id": "43Ncg0NnBMZE",
   "metadata": {
    "id": "43Ncg0NnBMZE"
   },
   "source": [
    "We can see from the plot and AUC that the SVM performs slightly better than the Multinomial NB."
   ]
  },
  {
   "cell_type": "markdown",
   "id": "3ce94a57",
   "metadata": {
    "id": "3ce94a57"
   },
   "source": [
    "# Classification: Classify the Activities (NKA/non-NKA)"
   ]
  },
  {
   "cell_type": "code",
   "execution_count": 79,
   "id": "FpUBgF8kZ9e4",
   "metadata": {
    "colab": {
     "base_uri": "https://localhost:8080/",
     "height": 206
    },
    "id": "FpUBgF8kZ9e4",
    "outputId": "08d83f75-4ec2-490a-91bd-aee6ce21c149"
   },
   "outputs": [
    {
     "data": {
      "text/html": [
       "\n",
       "  <div id=\"df-d27e8b92-d777-4f8d-9f81-dc4eb56db406\">\n",
       "    <div class=\"colab-df-container\">\n",
       "      <div>\n",
       "<style scoped>\n",
       "    .dataframe tbody tr th:only-of-type {\n",
       "        vertical-align: middle;\n",
       "    }\n",
       "\n",
       "    .dataframe tbody tr th {\n",
       "        vertical-align: top;\n",
       "    }\n",
       "\n",
       "    .dataframe thead th {\n",
       "        text-align: right;\n",
       "    }\n",
       "</style>\n",
       "<table border=\"1\" class=\"dataframe\">\n",
       "  <thead>\n",
       "    <tr style=\"text-align: right;\">\n",
       "      <th></th>\n",
       "      <th>document</th>\n",
       "      <th>tweeter</th>\n",
       "      <th>tweetTextOriginal</th>\n",
       "      <th>Followers</th>\n",
       "      <th>Follows</th>\n",
       "      <th>Replies exist? (Y or N)</th>\n",
       "      <th>ActivityNKA</th>\n",
       "    </tr>\n",
       "  </thead>\n",
       "  <tbody>\n",
       "    <tr>\n",
       "      <th>0</th>\n",
       "      <td>1</td>\n",
       "      <td>dr_menn</td>\n",
       "      <td>you know you’ve been immersed in olctoday’s ol...</td>\n",
       "      <td>272.0</td>\n",
       "      <td>497.0</td>\n",
       "      <td>N</td>\n",
       "      <td>0</td>\n",
       "    </tr>\n",
       "    <tr>\n",
       "      <th>1</th>\n",
       "      <td>2</td>\n",
       "      <td>mhhighered</td>\n",
       "      <td>icymi asu  ucf were awarded the digital inno...</td>\n",
       "      <td>17432.0</td>\n",
       "      <td>5749.0</td>\n",
       "      <td>N</td>\n",
       "      <td>0</td>\n",
       "    </tr>\n",
       "    <tr>\n",
       "      <th>2</th>\n",
       "      <td>3</td>\n",
       "      <td>edtechdev</td>\n",
       "      <td>added the peralta equity rubric  to this list ...</td>\n",
       "      <td>3779.0</td>\n",
       "      <td>3716.0</td>\n",
       "      <td>N</td>\n",
       "      <td>1</td>\n",
       "    </tr>\n",
       "    <tr>\n",
       "      <th>3</th>\n",
       "      <td>4</td>\n",
       "      <td>kthompso</td>\n",
       "      <td>i appreciate the reflective gratitude and the ...</td>\n",
       "      <td>2440.0</td>\n",
       "      <td>1232.0</td>\n",
       "      <td>N</td>\n",
       "      <td>0</td>\n",
       "    </tr>\n",
       "    <tr>\n",
       "      <th>4</th>\n",
       "      <td>5</td>\n",
       "      <td>angelagunder</td>\n",
       "      <td>hey olcaccelerate fomofest  i was so busy this...</td>\n",
       "      <td>684.0</td>\n",
       "      <td>698.0</td>\n",
       "      <td>Y</td>\n",
       "      <td>0</td>\n",
       "    </tr>\n",
       "  </tbody>\n",
       "</table>\n",
       "</div>\n",
       "      <button class=\"colab-df-convert\" onclick=\"convertToInteractive('df-d27e8b92-d777-4f8d-9f81-dc4eb56db406')\"\n",
       "              title=\"Convert this dataframe to an interactive table.\"\n",
       "              style=\"display:none;\">\n",
       "        \n",
       "  <svg xmlns=\"http://www.w3.org/2000/svg\" height=\"24px\"viewBox=\"0 0 24 24\"\n",
       "       width=\"24px\">\n",
       "    <path d=\"M0 0h24v24H0V0z\" fill=\"none\"/>\n",
       "    <path d=\"M18.56 5.44l.94 2.06.94-2.06 2.06-.94-2.06-.94-.94-2.06-.94 2.06-2.06.94zm-11 1L8.5 8.5l.94-2.06 2.06-.94-2.06-.94L8.5 2.5l-.94 2.06-2.06.94zm10 10l.94 2.06.94-2.06 2.06-.94-2.06-.94-.94-2.06-.94 2.06-2.06.94z\"/><path d=\"M17.41 7.96l-1.37-1.37c-.4-.4-.92-.59-1.43-.59-.52 0-1.04.2-1.43.59L10.3 9.45l-7.72 7.72c-.78.78-.78 2.05 0 2.83L4 21.41c.39.39.9.59 1.41.59.51 0 1.02-.2 1.41-.59l7.78-7.78 2.81-2.81c.8-.78.8-2.07 0-2.86zM5.41 20L4 18.59l7.72-7.72 1.47 1.35L5.41 20z\"/>\n",
       "  </svg>\n",
       "      </button>\n",
       "      \n",
       "  <style>\n",
       "    .colab-df-container {\n",
       "      display:flex;\n",
       "      flex-wrap:wrap;\n",
       "      gap: 12px;\n",
       "    }\n",
       "\n",
       "    .colab-df-convert {\n",
       "      background-color: #E8F0FE;\n",
       "      border: none;\n",
       "      border-radius: 50%;\n",
       "      cursor: pointer;\n",
       "      display: none;\n",
       "      fill: #1967D2;\n",
       "      height: 32px;\n",
       "      padding: 0 0 0 0;\n",
       "      width: 32px;\n",
       "    }\n",
       "\n",
       "    .colab-df-convert:hover {\n",
       "      background-color: #E2EBFA;\n",
       "      box-shadow: 0px 1px 2px rgba(60, 64, 67, 0.3), 0px 1px 3px 1px rgba(60, 64, 67, 0.15);\n",
       "      fill: #174EA6;\n",
       "    }\n",
       "\n",
       "    [theme=dark] .colab-df-convert {\n",
       "      background-color: #3B4455;\n",
       "      fill: #D2E3FC;\n",
       "    }\n",
       "\n",
       "    [theme=dark] .colab-df-convert:hover {\n",
       "      background-color: #434B5C;\n",
       "      box-shadow: 0px 1px 3px 1px rgba(0, 0, 0, 0.15);\n",
       "      filter: drop-shadow(0px 1px 2px rgba(0, 0, 0, 0.3));\n",
       "      fill: #FFFFFF;\n",
       "    }\n",
       "  </style>\n",
       "\n",
       "      <script>\n",
       "        const buttonEl =\n",
       "          document.querySelector('#df-d27e8b92-d777-4f8d-9f81-dc4eb56db406 button.colab-df-convert');\n",
       "        buttonEl.style.display =\n",
       "          google.colab.kernel.accessAllowed ? 'block' : 'none';\n",
       "\n",
       "        async function convertToInteractive(key) {\n",
       "          const element = document.querySelector('#df-d27e8b92-d777-4f8d-9f81-dc4eb56db406');\n",
       "          const dataTable =\n",
       "            await google.colab.kernel.invokeFunction('convertToInteractive',\n",
       "                                                     [key], {});\n",
       "          if (!dataTable) return;\n",
       "\n",
       "          const docLinkHtml = 'Like what you see? Visit the ' +\n",
       "            '<a target=\"_blank\" href=https://colab.research.google.com/notebooks/data_table.ipynb>data table notebook</a>'\n",
       "            + ' to learn more about interactive tables.';\n",
       "          element.innerHTML = '';\n",
       "          dataTable['output_type'] = 'display_data';\n",
       "          await google.colab.output.renderOutput(dataTable, element);\n",
       "          const docLink = document.createElement('div');\n",
       "          docLink.innerHTML = docLinkHtml;\n",
       "          element.appendChild(docLink);\n",
       "        }\n",
       "      </script>\n",
       "    </div>\n",
       "  </div>\n",
       "  "
      ],
      "text/plain": [
       "   document       tweeter                                  tweetTextOriginal  \\\n",
       "0         1       dr_menn  you know you’ve been immersed in olctoday’s ol...   \n",
       "1         2    mhhighered    icymi asu  ucf were awarded the digital inno...   \n",
       "2         3     edtechdev  added the peralta equity rubric  to this list ...   \n",
       "3         4      kthompso  i appreciate the reflective gratitude and the ...   \n",
       "4         5  angelagunder  hey olcaccelerate fomofest  i was so busy this...   \n",
       "\n",
       "   Followers  Follows Replies exist? (Y or N)  ActivityNKA  \n",
       "0      272.0    497.0                       N            0  \n",
       "1    17432.0   5749.0                       N            0  \n",
       "2     3779.0   3716.0                       N            1  \n",
       "3     2440.0   1232.0                       N            0  \n",
       "4      684.0    698.0                       Y            0  "
      ]
     },
     "execution_count": 79,
     "metadata": {},
     "output_type": "execute_result"
    }
   ],
   "source": [
    "# create a shallow copy of dataClean\n",
    "dataNKA = dataClean.copy()\n",
    "\n",
    "# map the variable 'Activity' so that 'ActivityNKA' represents NKA and non-NKA\n",
    "a = {'PS': 0, 'PN': 0, 'CI': 0, 'NKA': 1}\n",
    "dataNKA['ActivityNKA'] = dataNKA['Activity'].map(a)\n",
    "dataNKA = dataNKA.drop(['Activity'], axis=1)\n",
    "dataNKA.head()"
   ]
  },
  {
   "cell_type": "markdown",
   "id": "TcMkcca3FGuL",
   "metadata": {
    "id": "TcMkcca3FGuL"
   },
   "source": [
    "### **K-Fold**"
   ]
  },
  {
   "cell_type": "code",
   "execution_count": 80,
   "id": "IHEscClDFKdb",
   "metadata": {
    "colab": {
     "base_uri": "https://localhost:8080/"
    },
    "id": "IHEscClDFKdb",
    "outputId": "3ff0ac4b-fa97-4a9e-f6f3-c76d6f8d35a6"
   },
   "outputs": [
    {
     "name": "stdout",
     "output_type": "stream",
     "text": [
      "[0.86127168 0.83236994 0.86046512 0.84883721 0.81395349 0.80813953\n",
      " 0.84883721 0.88953488 0.86627907 0.87790698]\n"
     ]
    }
   ],
   "source": [
    "X = dataNKA['tweetTextOriginal']\n",
    "y = dataNKA['ActivityNKA']\n",
    "cv = CountVectorizer(stop_words='english')\n",
    "features = cv.fit_transform(X).toarray()\n",
    "kf = KFold(n_splits=10, random_state=1, shuffle=True)\n",
    "model = MultinomialNB()\n",
    "scores = cross_val_score(model, features, y, scoring='accuracy', cv=kf, n_jobs=-1)\n",
    "print(scores)"
   ]
  },
  {
   "cell_type": "markdown",
   "id": "Gpy8loGIFd9O",
   "metadata": {
    "id": "Gpy8loGIFd9O"
   },
   "source": [
    "The mean score and the standard deviation for Multinomial NB are given by:"
   ]
  },
  {
   "cell_type": "code",
   "execution_count": 81,
   "id": "mlCTcMzMFbDz",
   "metadata": {
    "colab": {
     "base_uri": "https://localhost:8080/"
    },
    "id": "mlCTcMzMFbDz",
    "outputId": "84ee753c-7433-4ef9-835f-a42dc18effe5"
   },
   "outputs": [
    {
     "name": "stdout",
     "output_type": "stream",
     "text": [
      "0.85 accuracy with a standard deviation of 0.02\n"
     ]
    }
   ],
   "source": [
    "print(\"%0.2f accuracy with a standard deviation of %0.2f\" % (scores.mean(), scores.std()))"
   ]
  },
  {
   "cell_type": "code",
   "execution_count": 82,
   "id": "NEliGTFYFbG1",
   "metadata": {
    "colab": {
     "base_uri": "https://localhost:8080/"
    },
    "id": "NEliGTFYFbG1",
    "outputId": "45764572-5070-43bf-b660-2f8d959dc33c"
   },
   "outputs": [
    {
     "name": "stdout",
     "output_type": "stream",
     "text": [
      "[0.8265896  0.8150289  0.80813953 0.83139535 0.79069767 0.80232558\n",
      " 0.84302326 0.81976744 0.86627907 0.79069767]\n"
     ]
    }
   ],
   "source": [
    "model2 = svm.SVC()\n",
    "scores2 = cross_val_score(model2, features, y, scoring='accuracy', cv=kf, n_jobs=-1)\n",
    "print(scores2)"
   ]
  },
  {
   "cell_type": "markdown",
   "id": "_0EKHS1HFsE5",
   "metadata": {
    "id": "_0EKHS1HFsE5"
   },
   "source": [
    "The mean score and the standard deviation for SVM are given by:"
   ]
  },
  {
   "cell_type": "code",
   "execution_count": 83,
   "id": "IwDb1eUqFw4C",
   "metadata": {
    "colab": {
     "base_uri": "https://localhost:8080/"
    },
    "id": "IwDb1eUqFw4C",
    "outputId": "746e801a-fa52-4f8d-9ba2-655c824b8677"
   },
   "outputs": [
    {
     "name": "stdout",
     "output_type": "stream",
     "text": [
      "0.82 accuracy with a standard deviation of 0.02\n"
     ]
    }
   ],
   "source": [
    "print(\"%0.2f accuracy with a standard deviation of %0.2f\" % (scores2.mean(), scores2.std()))"
   ]
  },
  {
   "cell_type": "markdown",
   "id": "Cxo_eh1iGHoR",
   "metadata": {
    "id": "Cxo_eh1iGHoR"
   },
   "source": [
    "Therefore, **Multinomial NB** has a higher mean accuracy score of **85%** than **SVM** of **82%** with K-Fold."
   ]
  },
  {
   "cell_type": "markdown",
   "id": "y4F16KARFgEx",
   "metadata": {
    "id": "y4F16KARFgEx"
   },
   "source": [
    "### **Train_Test_Split**"
   ]
  },
  {
   "cell_type": "code",
   "execution_count": 84,
   "id": "ce754ee0",
   "metadata": {
    "id": "ce754ee0"
   },
   "outputs": [],
   "source": [
    "# split the dataset into two:\n",
    "from sklearn.model_selection import train_test_split\n",
    "\n",
    "Xs = dataNKA['tweetTextOriginal']\n",
    "Ys = dataNKA['ActivityNKA']\n",
    "X_train, X_test, Y_train, Y_test = train_test_split(Xs, Ys, test_size = 0.25)"
   ]
  },
  {
   "cell_type": "markdown",
   "id": "eP37A_5WaxqZ",
   "metadata": {
    "id": "eP37A_5WaxqZ"
   },
   "source": [
    "Use **multinomial naive bayes** algorithm."
   ]
  },
  {
   "cell_type": "code",
   "execution_count": 85,
   "id": "009988e2",
   "metadata": {
    "colab": {
     "base_uri": "https://localhost:8080/"
    },
    "id": "009988e2",
    "outputId": "3c56f021-3985-4acb-c18f-ad30c64e14ff"
   },
   "outputs": [
    {
     "name": "stdout",
     "output_type": "stream",
     "text": [
      "0.839907192575406\n"
     ]
    }
   ],
   "source": [
    "from sklearn.naive_bayes import MultinomialNB\n",
    "\n",
    "# Prepare the training features\n",
    "cv = CountVectorizer(stop_words='english')\n",
    "features = cv.fit_transform(X_train).toarray()\n",
    "\n",
    "# Train a Naive Bayes Model\n",
    "model = MultinomialNB()\n",
    "model.fit(features, Y_train)\n",
    "\n",
    "# Prepare the testing xs\n",
    "# using transform and fit_transform to standardize the data\n",
    "feature_test = cv.transform(X_test).toarray()\n",
    "\n",
    "# Print the model accuracy\n",
    "print(model.score(feature_test,Y_test))"
   ]
  },
  {
   "cell_type": "markdown",
   "id": "9CToiTOz7VGA",
   "metadata": {
    "id": "9CToiTOz7VGA"
   },
   "source": [
    "**Confusion Matrix**"
   ]
  },
  {
   "cell_type": "code",
   "execution_count": 86,
   "id": "cbce405a",
   "metadata": {
    "colab": {
     "base_uri": "https://localhost:8080/"
    },
    "id": "cbce405a",
    "outputId": "6e095446-6723-4df9-8854-ff996fd4a957"
   },
   "outputs": [
    {
     "name": "stdout",
     "output_type": "stream",
     "text": [
      "[[230  21]\n",
      " [ 48 132]]\n"
     ]
    }
   ],
   "source": [
    "Y_pred = model.predict(feature_test)\n",
    "print(confusion_matrix(Y_test, Y_pred))"
   ]
  },
  {
   "cell_type": "markdown",
   "id": "Rod9_bsGa55j",
   "metadata": {
    "id": "Rod9_bsGa55j"
   },
   "source": [
    "**Multinomial NB** has an accuracy of **84.0%**, which is good. Similarly, I will compare it with **support vector machine**."
   ]
  },
  {
   "cell_type": "code",
   "execution_count": 87,
   "id": "45e9843e",
   "metadata": {
    "colab": {
     "base_uri": "https://localhost:8080/"
    },
    "id": "45e9843e",
    "outputId": "8985f9e5-237e-491d-eaeb-69adc44ba931"
   },
   "outputs": [
    {
     "name": "stdout",
     "output_type": "stream",
     "text": [
      "0.7865429234338747\n"
     ]
    }
   ],
   "source": [
    "from sklearn import svm\n",
    "\n",
    "# Prepare the training features\n",
    "cv = CountVectorizer(stop_words='english')\n",
    "features = cv.fit_transform(X_train)\n",
    "\n",
    "# Train SVM classifier & balance the dataset\n",
    "model = svm.SVC(class_weight='balanced')\n",
    "model.fit(features, Y_train)\n",
    "\n",
    "# Prepare the testing xs\n",
    "feature_test = cv.transform(X_test)\n",
    "\n",
    "# Print the model accuracy\n",
    "print(model.score(feature_test,Y_test))"
   ]
  },
  {
   "cell_type": "markdown",
   "id": "sejPFxeo7aLW",
   "metadata": {
    "id": "sejPFxeo7aLW"
   },
   "source": [
    "**Confusion Matrix**"
   ]
  },
  {
   "cell_type": "code",
   "execution_count": 88,
   "id": "1f7f5752",
   "metadata": {
    "colab": {
     "base_uri": "https://localhost:8080/"
    },
    "id": "1f7f5752",
    "outputId": "49d06679-90f7-4d9a-800b-dbded2f42d90"
   },
   "outputs": [
    {
     "name": "stdout",
     "output_type": "stream",
     "text": [
      "[[237  14]\n",
      " [ 78 102]]\n"
     ]
    }
   ],
   "source": [
    "Y_pred = model.predict(feature_test)\n",
    "print(confusion_matrix(Y_test, Y_pred))"
   ]
  },
  {
   "cell_type": "markdown",
   "id": "UfM8KgNBbATs",
   "metadata": {
    "id": "UfM8KgNBbATs"
   },
   "source": [
    "**SVM** has a lower accuracy of **78.7%** than the multinomial naive bayes model.\n",
    "\n",
    "Comparing the confusion matrixs, Multinomial NB performs better since it has more true positive and true negative."
   ]
  },
  {
   "cell_type": "markdown",
   "id": "pWCirOUzBtUN",
   "metadata": {
    "id": "pWCirOUzBtUN"
   },
   "source": [
    "### **ROC Curve**"
   ]
  },
  {
   "cell_type": "markdown",
   "id": "2Awqwe59By8g",
   "metadata": {
    "id": "2Awqwe59By8g"
   },
   "source": [
    "ROC Curve Plot for the **Multinomial Naive Bayes Classifier** and the **SVM Model**:"
   ]
  },
  {
   "cell_type": "code",
   "execution_count": 89,
   "id": "HKV1Sy-WCq4l",
   "metadata": {
    "colab": {
     "base_uri": "https://localhost:8080/",
     "height": 279
    },
    "id": "HKV1Sy-WCq4l",
    "outputId": "379ce066-fd2a-4076-e4d3-e641aa253724"
   },
   "outputs": [
    {
     "data": {
      "image/png": "[encoded data removed]",
      "text/plain": [
       "<Figure size 432x288 with 1 Axes>"
      ]
     },
     "metadata": {
      "needs_background": "light"
     },
     "output_type": "display_data"
    }
   ],
   "source": [
    "#set up plotting area\n",
    "plt.figure(0).clf()\n",
    "\n",
    "#fit Multinomial NB model and plot ROC curve\n",
    "model = MultinomialNB()\n",
    "model.fit(features, Y_train)\n",
    "Y_pred = model.predict_proba(feature_test)[:, 1]\n",
    "fpr, tpr, _ = metrics.roc_curve(Y_test, Y_pred)\n",
    "auc = round(metrics.roc_auc_score(Y_test, Y_pred), 4)\n",
    "plt.plot(fpr,tpr,label=\"Multinomial Naive Bayes, AUC=\"+str(auc))\n",
    "\n",
    "#fit SVM model and plot ROC curve\n",
    "model = svm.SVC(probability=True)\n",
    "model.fit(features, Y_train)\n",
    "Y_pred = model.predict_proba(feature_test)[:, 1]\n",
    "fpr, tpr, _ = metrics.roc_curve(Y_test, Y_pred)\n",
    "auc = round(metrics.roc_auc_score(Y_test, Y_pred), 4)\n",
    "plt.plot(fpr,tpr,label=\"SVM, AUC=\"+str(auc))\n",
    "\n",
    "# axis labels\n",
    "pyplot.xlabel('False Positive Rate')\n",
    "pyplot.ylabel('True Positive Rate')\n",
    "\n",
    "#add legend\n",
    "plt.legend()\n",
    "plt.show()"
   ]
  },
  {
   "cell_type": "markdown",
   "id": "DaJLnTNpUJxL",
   "metadata": {
    "id": "DaJLnTNpUJxL"
   },
   "source": [
    "We can see from the plot and AUC that the Multinomial NB performs slightly better than the SVM."
   ]
  },
  {
   "cell_type": "markdown",
   "id": "kP0182wKhCCG",
   "metadata": {
    "id": "kP0182wKhCCG"
   },
   "source": [
    "# Classification: Classify the Activities (NKA/non-NKA) - Balance the Dataset"
   ]
  },
  {
   "cell_type": "code",
   "execution_count": 95,
   "id": "THEe3VaEhg95",
   "metadata": {
    "id": "THEe3VaEhg95"
   },
   "outputs": [],
   "source": [
    "# split the dataset into two:\n",
    "from sklearn.model_selection import train_test_split\n",
    "\n",
    "Xs = dataNKA['tweetTextOriginal']\n",
    "Ys = dataNKA['ActivityNKA']\n",
    "X_train, X_test, Y_train, Y_test = train_test_split(Xs, Ys, test_size = 0.25)"
   ]
  },
  {
   "cell_type": "markdown",
   "id": "05LBSyMT8Nl3",
   "metadata": {
    "id": "05LBSyMT8Nl3"
   },
   "source": [
    "### Multinomial Naive Bayes"
   ]
  },
  {
   "cell_type": "code",
   "execution_count": 126,
   "id": "DFfisiIYr3vz",
   "metadata": {
    "id": "DFfisiIYr3vz"
   },
   "outputs": [],
   "source": [
    "from sklearn.utils import class_weight\n",
    "\n",
    "y = Y_train\n",
    "class_weights = class_weight.compute_class_weight(class_weight='balanced', classes=np.unique(y), y=y)\n",
    "\n",
    "# Convert class_weights to a dictionary to pass it to class_weight in model.fit\n",
    "class_weights = dict(enumerate(class_weights))"
   ]
  },
  {
   "cell_type": "code",
   "execution_count": 129,
   "id": "SeTf3P3jr30y",
   "metadata": {
    "colab": {
     "base_uri": "https://localhost:8080/"
    },
    "id": "SeTf3P3jr30y",
    "outputId": "d8a48d63-51f0-47aa-ff50-0a91991ac728"
   },
   "outputs": [
    {
     "data": {
      "text/plain": [
       "1566    0.786236\n",
       "1695    0.786236\n",
       "1208    0.786236\n",
       "118     0.786236\n",
       "1692    1.373404\n",
       "          ...   \n",
       "1001    1.373404\n",
       "234     0.786236\n",
       "1680    0.786236\n",
       "1254    0.786236\n",
       "1268    0.786236\n",
       "Name: ActivityNKA, Length: 1291, dtype: float64"
      ]
     },
     "execution_count": 129,
     "metadata": {},
     "output_type": "execute_result"
    }
   ],
   "source": [
    "# map 'Y_train'\n",
    "Y_trainM = Y_train.map(class_weights)\n",
    "Y_trainM"
   ]
  },
  {
   "cell_type": "code",
   "execution_count": 131,
   "id": "EwxV0p7zhKyt",
   "metadata": {
    "colab": {
     "base_uri": "https://localhost:8080/"
    },
    "id": "EwxV0p7zhKyt",
    "outputId": "a359a21e-7d11-47e3-d4a1-25cce818544d"
   },
   "outputs": [
    {
     "name": "stdout",
     "output_type": "stream",
     "text": [
      "0.8747099767981439\n"
     ]
    }
   ],
   "source": [
    "from sklearn.naive_bayes import MultinomialNB\n",
    "\n",
    "# Prepare the training features\n",
    "cv = CountVectorizer(stop_words='english')\n",
    "features = cv.fit_transform(X_train).toarray()\n",
    "\n",
    "# Train a Naive Bayes Model\n",
    "model = MultinomialNB()\n",
    "model.fit(features, Y_train, sample_weight=Y_trainM)\n",
    "\n",
    "# Prepare the testing xs\n",
    "# using transform and fit_transform to standardize the data\n",
    "feature_test = cv.transform(X_test).toarray()\n",
    "\n",
    "# Print the model accuracy\n",
    "print(model.score(feature_test,Y_test))"
   ]
  },
  {
   "cell_type": "markdown",
   "id": "WtLY_vx59GNH",
   "metadata": {
    "id": "WtLY_vx59GNH"
   },
   "source": [
    "The accuracy for Multinomial Naive Bayes is 87.5% after adjusting weights."
   ]
  },
  {
   "cell_type": "markdown",
   "id": "F-5Bsm0e9iVD",
   "metadata": {
    "id": "F-5Bsm0e9iVD"
   },
   "source": [
    "**Confusion Matrix**"
   ]
  },
  {
   "cell_type": "code",
   "execution_count": 132,
   "id": "EPqdygzG9pP7",
   "metadata": {
    "colab": {
     "base_uri": "https://localhost:8080/"
    },
    "id": "EPqdygzG9pP7",
    "outputId": "9c1a2118-447c-4e59-ff0a-e4066381cbbd"
   },
   "outputs": [
    {
     "name": "stdout",
     "output_type": "stream",
     "text": [
      "[[225  34]\n",
      " [ 20 152]]\n"
     ]
    }
   ],
   "source": [
    "Y_pred = model.predict(feature_test)\n",
    "print(confusion_matrix(Y_test, Y_pred))"
   ]
  },
  {
   "cell_type": "markdown",
   "id": "5cu9d3c_9doI",
   "metadata": {
    "id": "5cu9d3c_9doI"
   },
   "source": [
    "### Support Vector Machine"
   ]
  },
  {
   "cell_type": "code",
   "execution_count": 133,
   "id": "RYSCuldOhV-4",
   "metadata": {
    "colab": {
     "base_uri": "https://localhost:8080/"
    },
    "id": "RYSCuldOhV-4",
    "outputId": "7978837f-2b0d-424d-d22d-ee98a61294f8"
   },
   "outputs": [
    {
     "name": "stdout",
     "output_type": "stream",
     "text": [
      "0.839907192575406\n"
     ]
    }
   ],
   "source": [
    "from sklearn import svm\n",
    "\n",
    "# Prepare the training features\n",
    "cv = CountVectorizer(stop_words='english')\n",
    "features = cv.fit_transform(X_train)\n",
    "\n",
    "# Train SVM classifier\n",
    "model = svm.SVC(class_weight='balanced')\n",
    "model.fit(features, Y_train)\n",
    "\n",
    "# Prepare the testing xs\n",
    "feature_test = cv.transform(X_test)\n",
    "\n",
    "# Print the model accuracy\n",
    "print(model.score(feature_test,Y_test))"
   ]
  },
  {
   "cell_type": "markdown",
   "id": "CbB-Y_U99X7I",
   "metadata": {
    "id": "CbB-Y_U99X7I"
   },
   "source": [
    "The accuracy for SVM is 84.0% after adjusting weights."
   ]
  },
  {
   "cell_type": "markdown",
   "id": "aeFh6gA39-C3",
   "metadata": {
    "id": "aeFh6gA39-C3"
   },
   "source": [
    "**Confusion Matrix**"
   ]
  },
  {
   "cell_type": "code",
   "execution_count": 134,
   "id": "gpJQaUtp98_3",
   "metadata": {
    "colab": {
     "base_uri": "https://localhost:8080/"
    },
    "id": "gpJQaUtp98_3",
    "outputId": "f9ef4240-bceb-4d90-ce3d-755d2ae806d7"
   },
   "outputs": [
    {
     "name": "stdout",
     "output_type": "stream",
     "text": [
      "[[222  37]\n",
      " [ 32 140]]\n"
     ]
    }
   ],
   "source": [
    "Y_pred = model.predict(feature_test)\n",
    "print(confusion_matrix(Y_test, Y_pred))"
   ]
  },
  {
   "cell_type": "markdown",
   "id": "jRSPBb6H-dxn",
   "metadata": {
    "id": "jRSPBb6H-dxn"
   },
   "source": [
    "### **ROC Curve**"
   ]
  },
  {
   "cell_type": "markdown",
   "id": "AvJ4kGXm-nv0",
   "metadata": {
    "id": "AvJ4kGXm-nv0"
   },
   "source": [
    "ROC Curve Plot for the **Multinomial Naive Bayes Classifier** and the **SVM Model**:"
   ]
  },
  {
   "cell_type": "code",
   "execution_count": 135,
   "id": "MrtlCRQe-ch0",
   "metadata": {
    "colab": {
     "base_uri": "https://localhost:8080/",
     "height": 279
    },
    "id": "MrtlCRQe-ch0",
    "outputId": "43a0cf44-471f-456b-d986-35ad01505787"
   },
   "outputs": [
    {
     "data": {
      "image/png": "[encoded data removed]",
      "text/plain": [
       "<Figure size 432x288 with 1 Axes>"
      ]
     },
     "metadata": {
      "needs_background": "light"
     },
     "output_type": "display_data"
    }
   ],
   "source": [
    "#set up plotting area\n",
    "plt.figure(0).clf()\n",
    "\n",
    "#fit Multinomial NB model and plot ROC curve\n",
    "model = MultinomialNB()\n",
    "model.fit(features, Y_train, sample_weight=Y_trainM)\n",
    "Y_pred = model.predict_proba(feature_test)[:, 1]\n",
    "fpr, tpr, _ = metrics.roc_curve(Y_test, Y_pred)\n",
    "auc = round(metrics.roc_auc_score(Y_test, Y_pred), 4)\n",
    "plt.plot(fpr,tpr,label=\"Multinomial Naive Bayes, AUC=\"+str(auc))\n",
    "\n",
    "#fit SVM model and plot ROC curve\n",
    "model = svm.SVC(class_weight='balanced', probability=True)\n",
    "model.fit(features, Y_train)\n",
    "Y_pred = model.predict_proba(feature_test)[:, 1]\n",
    "fpr, tpr, _ = metrics.roc_curve(Y_test, Y_pred)\n",
    "auc = round(metrics.roc_auc_score(Y_test, Y_pred), 4)\n",
    "plt.plot(fpr,tpr,label=\"SVM, AUC=\"+str(auc))\n",
    "\n",
    "# axis labels\n",
    "pyplot.xlabel('False Positive Rate')\n",
    "pyplot.ylabel('True Positive Rate')\n",
    "\n",
    "#add legend\n",
    "plt.legend()\n",
    "plt.show()"
   ]
  },
  {
   "cell_type": "markdown",
   "id": "OGrlnwCs-JTv",
   "metadata": {
    "id": "OGrlnwCs-JTv"
   },
   "source": [
    "We can see that the accuracy for the models increased after balancing the dataset. The models now have more true positive and true negative. Also, Multinomial NB has a slightly higher accuracy than SVM."
   ]
  },
  {
   "cell_type": "markdown",
   "id": "Wr1Hhs6FeJkk",
   "metadata": {
    "id": "Wr1Hhs6FeJkk"
   },
   "source": [
    "## Discussion"
   ]
  },
  {
   "cell_type": "markdown",
   "id": "x-6T9BoRePW1",
   "metadata": {
    "id": "x-6T9BoRePW1"
   },
   "source": [
    "Based on the above analysis, the 2018 Online Learning Consortium conference received mostly **positive feedback**. According to the exploratory analysis and topic modeling results, positive words such as great, good, like, love, thanks, etc. were frequently used in the tweeter text. Therefore, the overall sentiment of the tweets should be positive.\n",
    "\n",
    "In addition, we can see from the explanatory analysis that among the four activities, **NKA** tweets have the most replies of 119, while **CI** and **PN** tweets have the least replies of 73.\n",
    "\n",
    "The topic modeling makes sense to me. The Online Learning Consortium Conference tweets are centered with the words including olcaccekerate (its official hashtag #OLCAccelerate), online, learning, students, session, etc. The words are all related to the online learning contexts, and it makes sense that they appear more frequently than others. Also, the words great and good can indicate that there was positive feedback for the conference.\n",
    "\n",
    "As for the classification:\n",
    "\n",
    "* I tried to build classifiers to **predict replies** from the original tweet retrieved in the text format. The **support vector machine model** has a slightly higher accuracy of **79.4%** than the multinomial naive bayes model in predicting the possibility of getting replies with a given tweet.\n",
    "* Next, I tried to **classify the activities (NKA/non-NKA)** from the original tweet retrieved in the text format. \n",
    "  * When not balancing the dataset, the **multinomial naive bayes model** performed better with an accuracy of **84.0%** than the support vector machine with an accuracy of 78.7%.\n",
    "  * After balancing the dataset, **Multinomial NB** has an accuracy of **87.5%** and **SVM** has an accuracy of **84.0%**. The models have higher accuracy after adjusting the weights.\n",
    "\n"
   ]
  }
 ],
 "metadata": {
  "colab": {
   "collapsed_sections": [],
   "name": "MiniLA_NLP_ipynb_v03.ipynb",
   "provenance": []
  },
  "kernelspec": {
   "display_name": "Python 3 (ipykernel)",
   "language": "python",
   "name": "python3"
  },
  "language_info": {
   "codemirror_mode": {
    "name": "ipython",
    "version": 3
   },
   "file_extension": ".py",
   "mimetype": "text/x-python",
   "name": "python",
   "nbconvert_exporter": "python",
   "pygments_lexer": "ipython3",
   "version": "3.7.4"
  }
 },
 "nbformat": 4,
 "nbformat_minor": 5
}
